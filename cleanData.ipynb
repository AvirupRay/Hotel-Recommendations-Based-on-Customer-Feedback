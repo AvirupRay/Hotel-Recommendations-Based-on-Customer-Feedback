{
 "cells": [
  {
   "cell_type": "code",
   "execution_count": 56,
   "metadata": {},
   "outputs": [],
   "source": [
    "import pandas as pd\n",
    "\n",
    "df=pd.read_csv(\"ReviewData.csv\")"
   ]
  },
  {
   "cell_type": "code",
   "execution_count": 62,
   "metadata": {},
   "outputs": [
    {
     "data": {
      "text/html": [
       "<div>\n",
       "<style scoped>\n",
       "    .dataframe tbody tr th:only-of-type {\n",
       "        vertical-align: middle;\n",
       "    }\n",
       "\n",
       "    .dataframe tbody tr th {\n",
       "        vertical-align: top;\n",
       "    }\n",
       "\n",
       "    .dataframe thead th {\n",
       "        text-align: right;\n",
       "    }\n",
       "</style>\n",
       "<table border=\"1\" class=\"dataframe\">\n",
       "  <thead>\n",
       "    <tr style=\"text-align: right;\">\n",
       "      <th></th>\n",
       "      <th>Hotel_Address</th>\n",
       "      <th>Average_Score</th>\n",
       "      <th>Hotel_Name</th>\n",
       "      <th>Tags</th>\n",
       "      <th>countries</th>\n",
       "      <th>Stars</th>\n",
       "      <th>Word_Score</th>\n",
       "    </tr>\n",
       "  </thead>\n",
       "  <tbody>\n",
       "    <tr>\n",
       "      <th>0</th>\n",
       "      <td>s Gravesandestraat 55 Oost 1092 AA Amsterdam NL</td>\n",
       "      <td>7.7</td>\n",
       "      <td>Hotel Arena</td>\n",
       "      <td>leisure trip  couple  duplex double room  sta...</td>\n",
       "      <td>NL</td>\n",
       "      <td>5</td>\n",
       "      <td>6.05</td>\n",
       "    </tr>\n",
       "    <tr>\n",
       "      <th>1</th>\n",
       "      <td>s Gravesandestraat 55 Oost 1092 AA Amsterdam NL</td>\n",
       "      <td>7.7</td>\n",
       "      <td>Hotel Arena</td>\n",
       "      <td>leisure trip  couple  duplex double room  sta...</td>\n",
       "      <td>NL</td>\n",
       "      <td>5</td>\n",
       "      <td>2.83</td>\n",
       "    </tr>\n",
       "    <tr>\n",
       "      <th>2</th>\n",
       "      <td>s Gravesandestraat 55 Oost 1092 AA Amsterdam NL</td>\n",
       "      <td>7.7</td>\n",
       "      <td>Hotel Arena</td>\n",
       "      <td>leisure trip  family with young children  dup...</td>\n",
       "      <td>NL</td>\n",
       "      <td>5</td>\n",
       "      <td>6.98</td>\n",
       "    </tr>\n",
       "    <tr>\n",
       "      <th>3</th>\n",
       "      <td>s Gravesandestraat 55 Oost 1092 AA Amsterdam NL</td>\n",
       "      <td>7.7</td>\n",
       "      <td>Hotel Arena</td>\n",
       "      <td>leisure trip  solo traveler  duplex double ro...</td>\n",
       "      <td>NL</td>\n",
       "      <td>5</td>\n",
       "      <td>3.84</td>\n",
       "    </tr>\n",
       "    <tr>\n",
       "      <th>4</th>\n",
       "      <td>s Gravesandestraat 55 Oost 1092 AA Amsterdam NL</td>\n",
       "      <td>7.7</td>\n",
       "      <td>Hotel Arena</td>\n",
       "      <td>leisure trip  couple  suite  stayed 2 nights ...</td>\n",
       "      <td>NL</td>\n",
       "      <td>5</td>\n",
       "      <td>8.89</td>\n",
       "    </tr>\n",
       "  </tbody>\n",
       "</table>\n",
       "</div>"
      ],
      "text/plain": [
       "                                      Hotel_Address  Average_Score  \\\n",
       "0   s Gravesandestraat 55 Oost 1092 AA Amsterdam NL            7.7   \n",
       "1   s Gravesandestraat 55 Oost 1092 AA Amsterdam NL            7.7   \n",
       "2   s Gravesandestraat 55 Oost 1092 AA Amsterdam NL            7.7   \n",
       "3   s Gravesandestraat 55 Oost 1092 AA Amsterdam NL            7.7   \n",
       "4   s Gravesandestraat 55 Oost 1092 AA Amsterdam NL            7.7   \n",
       "\n",
       "    Hotel_Name                                               Tags countries  \\\n",
       "0  Hotel Arena   leisure trip  couple  duplex double room  sta...        NL   \n",
       "1  Hotel Arena   leisure trip  couple  duplex double room  sta...        NL   \n",
       "2  Hotel Arena   leisure trip  family with young children  dup...        NL   \n",
       "3  Hotel Arena   leisure trip  solo traveler  duplex double ro...        NL   \n",
       "4  Hotel Arena   leisure trip  couple  suite  stayed 2 nights ...        NL   \n",
       "\n",
       "   Stars  Word_Score  \n",
       "0      5        6.05  \n",
       "1      5        2.83  \n",
       "2      5        6.98  \n",
       "3      5        3.84  \n",
       "4      5        8.89  "
      ]
     },
     "execution_count": 62,
     "metadata": {},
     "output_type": "execute_result"
    }
   ],
   "source": [
    "df.head()"
   ]
  },
  {
   "cell_type": "code",
   "execution_count": 3,
   "metadata": {},
   "outputs": [
    {
     "name": "stdout",
     "output_type": "stream",
     "text": [
      "<class 'pandas.core.frame.DataFrame'>\n",
      "RangeIndex: 515738 entries, 0 to 515737\n",
      "Data columns (total 7 columns):\n",
      " #   Column         Non-Null Count   Dtype  \n",
      "---  ------         --------------   -----  \n",
      " 0   Hotel_Address  515738 non-null  object \n",
      " 1   Average_Score  515738 non-null  float64\n",
      " 2   Hotel_Name     515738 non-null  object \n",
      " 3   Tags           515738 non-null  object \n",
      " 4   countries      515738 non-null  object \n",
      " 5   Word_Score     515738 non-null  float64\n",
      " 6   Stars          515738 non-null  int64  \n",
      "dtypes: float64(2), int64(1), object(4)\n",
      "memory usage: 27.5+ MB\n"
     ]
    }
   ],
   "source": [
    "df.info()"
   ]
  },
  {
   "cell_type": "code",
   "execution_count": 4,
   "metadata": {},
   "outputs": [
    {
     "data": {
      "text/plain": [
       "Hotel_Address    0\n",
       "Average_Score    0\n",
       "Hotel_Name       0\n",
       "Tags             0\n",
       "countries        0\n",
       "Word_Score       0\n",
       "Stars            0\n",
       "dtype: int64"
      ]
     },
     "execution_count": 4,
     "metadata": {},
     "output_type": "execute_result"
    }
   ],
   "source": [
    "df.isnull().sum()"
   ]
  },
  {
   "cell_type": "code",
   "execution_count": 48,
   "metadata": {},
   "outputs": [],
   "source": [
    "df.drop('Word_Score',axis=1,inplace=True)"
   ]
  },
  {
   "cell_type": "code",
   "execution_count": 53,
   "metadata": {},
   "outputs": [
    {
     "data": {
      "text/html": [
       "<div>\n",
       "<style scoped>\n",
       "    .dataframe tbody tr th:only-of-type {\n",
       "        vertical-align: middle;\n",
       "    }\n",
       "\n",
       "    .dataframe tbody tr th {\n",
       "        vertical-align: top;\n",
       "    }\n",
       "\n",
       "    .dataframe thead th {\n",
       "        text-align: right;\n",
       "    }\n",
       "</style>\n",
       "<table border=\"1\" class=\"dataframe\">\n",
       "  <thead>\n",
       "    <tr style=\"text-align: right;\">\n",
       "      <th></th>\n",
       "      <th>Hotel_Address</th>\n",
       "      <th>Average_Score</th>\n",
       "      <th>Hotel_Name</th>\n",
       "      <th>Tags</th>\n",
       "      <th>countries</th>\n",
       "      <th>Stars</th>\n",
       "      <th>Word_Score</th>\n",
       "    </tr>\n",
       "  </thead>\n",
       "  <tbody>\n",
       "    <tr>\n",
       "      <th>0</th>\n",
       "      <td>s Gravesandestraat 55 Oost 1092 AA Amsterdam NL</td>\n",
       "      <td>7.7</td>\n",
       "      <td>Hotel Arena</td>\n",
       "      <td>leisure trip  couple  duplex double room  sta...</td>\n",
       "      <td>NL</td>\n",
       "      <td>5</td>\n",
       "      <td>6.05</td>\n",
       "    </tr>\n",
       "    <tr>\n",
       "      <th>1</th>\n",
       "      <td>s Gravesandestraat 55 Oost 1092 AA Amsterdam NL</td>\n",
       "      <td>7.7</td>\n",
       "      <td>Hotel Arena</td>\n",
       "      <td>leisure trip  couple  duplex double room  sta...</td>\n",
       "      <td>NL</td>\n",
       "      <td>5</td>\n",
       "      <td>2.83</td>\n",
       "    </tr>\n",
       "    <tr>\n",
       "      <th>2</th>\n",
       "      <td>s Gravesandestraat 55 Oost 1092 AA Amsterdam NL</td>\n",
       "      <td>7.7</td>\n",
       "      <td>Hotel Arena</td>\n",
       "      <td>leisure trip  family with young children  dup...</td>\n",
       "      <td>NL</td>\n",
       "      <td>5</td>\n",
       "      <td>6.98</td>\n",
       "    </tr>\n",
       "    <tr>\n",
       "      <th>3</th>\n",
       "      <td>s Gravesandestraat 55 Oost 1092 AA Amsterdam NL</td>\n",
       "      <td>7.7</td>\n",
       "      <td>Hotel Arena</td>\n",
       "      <td>leisure trip  solo traveler  duplex double ro...</td>\n",
       "      <td>NL</td>\n",
       "      <td>5</td>\n",
       "      <td>3.84</td>\n",
       "    </tr>\n",
       "    <tr>\n",
       "      <th>4</th>\n",
       "      <td>s Gravesandestraat 55 Oost 1092 AA Amsterdam NL</td>\n",
       "      <td>7.7</td>\n",
       "      <td>Hotel Arena</td>\n",
       "      <td>leisure trip  couple  suite  stayed 2 nights ...</td>\n",
       "      <td>NL</td>\n",
       "      <td>5</td>\n",
       "      <td>8.89</td>\n",
       "    </tr>\n",
       "  </tbody>\n",
       "</table>\n",
       "</div>"
      ],
      "text/plain": [
       "                                      Hotel_Address  Average_Score  \\\n",
       "0   s Gravesandestraat 55 Oost 1092 AA Amsterdam NL            7.7   \n",
       "1   s Gravesandestraat 55 Oost 1092 AA Amsterdam NL            7.7   \n",
       "2   s Gravesandestraat 55 Oost 1092 AA Amsterdam NL            7.7   \n",
       "3   s Gravesandestraat 55 Oost 1092 AA Amsterdam NL            7.7   \n",
       "4   s Gravesandestraat 55 Oost 1092 AA Amsterdam NL            7.7   \n",
       "\n",
       "    Hotel_Name                                               Tags countries  \\\n",
       "0  Hotel Arena   leisure trip  couple  duplex double room  sta...        NL   \n",
       "1  Hotel Arena   leisure trip  couple  duplex double room  sta...        NL   \n",
       "2  Hotel Arena   leisure trip  family with young children  dup...        NL   \n",
       "3  Hotel Arena   leisure trip  solo traveler  duplex double ro...        NL   \n",
       "4  Hotel Arena   leisure trip  couple  suite  stayed 2 nights ...        NL   \n",
       "\n",
       "   Stars  Word_Score  \n",
       "0      5        6.05  \n",
       "1      5        2.83  \n",
       "2      5        6.98  \n",
       "3      5        3.84  \n",
       "4      5        8.89  "
      ]
     },
     "execution_count": 53,
     "metadata": {},
     "output_type": "execute_result"
    }
   ],
   "source": [
    "df.head()"
   ]
  },
  {
   "cell_type": "code",
   "execution_count": 50,
   "metadata": {},
   "outputs": [],
   "source": [
    "import numpy as np"
   ]
  },
  {
   "cell_type": "code",
   "execution_count": 51,
   "metadata": {},
   "outputs": [],
   "source": [
    "wordScores=[]\n",
    "c=0\n",
    "for i in range (len(df)):\n",
    "    wordScores.append(round(np.random.uniform(0.5,9.5),2))"
   ]
  },
  {
   "cell_type": "code",
   "execution_count": 52,
   "metadata": {},
   "outputs": [],
   "source": [
    "df['Word_Score']=wordScores"
   ]
  },
  {
   "cell_type": "code",
   "execution_count": null,
   "metadata": {},
   "outputs": [],
   "source": [
    "def hotelsFromTags(dataframe, tags):\n",
    "\n",
    "    #boolean mask for each tag\n",
    "    tagMasks=[dataframe['Tags'].str.contains(eachtag, case=False) for eachtag in tags]\n",
    "\n",
    "    #tagMask makes different Masking lists for each tag, ie 5 tags as input will make 5 different masking lists\n",
    "    #so use combined mask to combie them\n",
    "\n",
    "    combinedMask=pd.Series([True]*len(dataframe))\n",
    "    for eachMask in tagMasks:\n",
    "        combinedMask &= eachMask\n",
    "\n",
    "    #print(combinedMask)\n",
    "    \n",
    "    #now filtering the dataframe on the basis of the combined mask and other filters\n",
    "    result_df=dataframe[combinedMask]\n",
    "    result_df=result_df.sort_values('Average_Score',ascending=False)\n",
    "    result_df.drop_duplicates(['Hotel_Name','Average_Score'],inplace=True)\n",
    "    result_df=result_df.head(10)\n",
    "    print(result_df[['Hotel_Name','Average_Score','Word_Score','Stars']])\n",
    "\n",
    "hotelsFromTags(df, [\"with a pet\"])\n"
   ]
  },
  {
   "cell_type": "code",
   "execution_count": null,
   "metadata": {},
   "outputs": [],
   "source": [
    "import pickle\n",
    "\n",
    "hotelModel={'df':df, 'hotelsFromTags':hotelsFromTags }\n",
    "\n",
    "with open('hotelModelPickle.pkl','wb') as f:\n",
    "    pickle.dump(hotelModel, f)"
   ]
  },
  {
   "cell_type": "code",
   "execution_count": null,
   "metadata": {},
   "outputs": [],
   "source": [
    "with open('hotelModelPickle.pkl', 'rb') as f:\n",
    "    modelData = pickle.load(f)\n",
    "\n",
    "df2=modelData['df']\n",
    "tagSearch=modelData['hotelsFromTags']\n",
    "\n",
    "tagSearch(df2, ['leisure trip','couple'])"
   ]
  },
  {
   "cell_type": "code",
   "execution_count": null,
   "metadata": {},
   "outputs": [],
   "source": [
    "import random\n",
    "hotelNames=df['Hotel_Name']\n",
    "allHotels=[]\n",
    "\n",
    "for i in hotelNames:\n",
    "    if i not in allHotels:\n",
    "        allHotels.append(i)\n",
    "\n",
    "hotelStars={}\n",
    "for i in allHotels:\n",
    "    hotelStars[i]=random.randint(3,5)\n",
    "\n",
    "print(hotelStars)"
   ]
  },
  {
   "cell_type": "code",
   "execution_count": null,
   "metadata": {},
   "outputs": [],
   "source": [
    "df['Stars']=df['Hotel_Name'].map(hotelStars)"
   ]
  },
  {
   "cell_type": "code",
   "execution_count": 58,
   "metadata": {},
   "outputs": [
    {
     "data": {
      "text/html": [
       "<div>\n",
       "<style scoped>\n",
       "    .dataframe tbody tr th:only-of-type {\n",
       "        vertical-align: middle;\n",
       "    }\n",
       "\n",
       "    .dataframe tbody tr th {\n",
       "        vertical-align: top;\n",
       "    }\n",
       "\n",
       "    .dataframe thead th {\n",
       "        text-align: right;\n",
       "    }\n",
       "</style>\n",
       "<table border=\"1\" class=\"dataframe\">\n",
       "  <thead>\n",
       "    <tr style=\"text-align: right;\">\n",
       "      <th></th>\n",
       "      <th>Hotel_Address</th>\n",
       "      <th>Average_Score</th>\n",
       "      <th>Hotel_Name</th>\n",
       "      <th>Tags</th>\n",
       "      <th>countries</th>\n",
       "      <th>Stars</th>\n",
       "      <th>Word_Score</th>\n",
       "    </tr>\n",
       "  </thead>\n",
       "  <tbody>\n",
       "    <tr>\n",
       "      <th>0</th>\n",
       "      <td>s Gravesandestraat 55 Oost 1092 AA Amsterdam NL</td>\n",
       "      <td>7.7</td>\n",
       "      <td>Hotel Arena</td>\n",
       "      <td>leisure trip  couple  duplex double room  sta...</td>\n",
       "      <td>NL</td>\n",
       "      <td>5</td>\n",
       "      <td>6.05</td>\n",
       "    </tr>\n",
       "    <tr>\n",
       "      <th>1</th>\n",
       "      <td>s Gravesandestraat 55 Oost 1092 AA Amsterdam NL</td>\n",
       "      <td>7.7</td>\n",
       "      <td>Hotel Arena</td>\n",
       "      <td>leisure trip  couple  duplex double room  sta...</td>\n",
       "      <td>NL</td>\n",
       "      <td>5</td>\n",
       "      <td>2.83</td>\n",
       "    </tr>\n",
       "    <tr>\n",
       "      <th>2</th>\n",
       "      <td>s Gravesandestraat 55 Oost 1092 AA Amsterdam NL</td>\n",
       "      <td>7.7</td>\n",
       "      <td>Hotel Arena</td>\n",
       "      <td>leisure trip  family with young children  dup...</td>\n",
       "      <td>NL</td>\n",
       "      <td>5</td>\n",
       "      <td>6.98</td>\n",
       "    </tr>\n",
       "    <tr>\n",
       "      <th>3</th>\n",
       "      <td>s Gravesandestraat 55 Oost 1092 AA Amsterdam NL</td>\n",
       "      <td>7.7</td>\n",
       "      <td>Hotel Arena</td>\n",
       "      <td>leisure trip  solo traveler  duplex double ro...</td>\n",
       "      <td>NL</td>\n",
       "      <td>5</td>\n",
       "      <td>3.84</td>\n",
       "    </tr>\n",
       "    <tr>\n",
       "      <th>4</th>\n",
       "      <td>s Gravesandestraat 55 Oost 1092 AA Amsterdam NL</td>\n",
       "      <td>7.7</td>\n",
       "      <td>Hotel Arena</td>\n",
       "      <td>leisure trip  couple  suite  stayed 2 nights ...</td>\n",
       "      <td>NL</td>\n",
       "      <td>5</td>\n",
       "      <td>8.89</td>\n",
       "    </tr>\n",
       "  </tbody>\n",
       "</table>\n",
       "</div>"
      ],
      "text/plain": [
       "                                      Hotel_Address  Average_Score  \\\n",
       "0   s Gravesandestraat 55 Oost 1092 AA Amsterdam NL            7.7   \n",
       "1   s Gravesandestraat 55 Oost 1092 AA Amsterdam NL            7.7   \n",
       "2   s Gravesandestraat 55 Oost 1092 AA Amsterdam NL            7.7   \n",
       "3   s Gravesandestraat 55 Oost 1092 AA Amsterdam NL            7.7   \n",
       "4   s Gravesandestraat 55 Oost 1092 AA Amsterdam NL            7.7   \n",
       "\n",
       "    Hotel_Name                                               Tags countries  \\\n",
       "0  Hotel Arena   leisure trip  couple  duplex double room  sta...        NL   \n",
       "1  Hotel Arena   leisure trip  couple  duplex double room  sta...        NL   \n",
       "2  Hotel Arena   leisure trip  family with young children  dup...        NL   \n",
       "3  Hotel Arena   leisure trip  solo traveler  duplex double ro...        NL   \n",
       "4  Hotel Arena   leisure trip  couple  suite  stayed 2 nights ...        NL   \n",
       "\n",
       "   Stars  Word_Score  \n",
       "0      5        6.05  \n",
       "1      5        2.83  \n",
       "2      5        6.98  \n",
       "3      5        3.84  \n",
       "4      5        8.89  "
      ]
     },
     "execution_count": 58,
     "metadata": {},
     "output_type": "execute_result"
    }
   ],
   "source": [
    "df.head()"
   ]
  },
  {
   "cell_type": "code",
   "execution_count": 55,
   "metadata": {},
   "outputs": [],
   "source": [
    "df.to_csv(\"ReviewData.csv\",index=False)"
   ]
  },
  {
   "cell_type": "code",
   "execution_count": null,
   "metadata": {},
   "outputs": [],
   "source": [
    "df.Stars.unique()"
   ]
  },
  {
   "cell_type": "markdown",
   "metadata": {},
   "source": [
    "Find my Hotel Function"
   ]
  },
  {
   "cell_type": "code",
   "execution_count": 65,
   "metadata": {},
   "outputs": [
    {
     "name": "stdout",
     "output_type": "stream",
     "text": [
      "       countries                          Hotel_Name  Average_Score  \\\n",
      "334822        AT   FourSide Hotel Vienna City Center            8.1   \n",
      "382523        AT                  Pakat Suites Hotel            8.6   \n",
      "336070        AT      Austria Trend Hotel Bosei Wien            8.3   \n",
      "396522        AT                   Hotel Am Parkring            9.0   \n",
      "384785        AT     Fleming s Conference Hotel Wien            8.5   \n",
      "512099        AT          Suite Hotel 900 m zur Oper            8.0   \n",
      "465798        AT                  Hotel City Central            8.6   \n",
      "370715        AT  25hours Hotel beim MuseumsQuartier            8.8   \n",
      "444660        AT                  Arthotel ANA Prime            8.4   \n",
      "464502        AT                      Hotel Stefanie            9.1   \n",
      "\n",
      "        Word_Score  Stars  \n",
      "334822        9.50      5  \n",
      "382523        9.50      3  \n",
      "336070        9.50      3  \n",
      "396522        9.50      4  \n",
      "384785        9.50      5  \n",
      "512099        9.50      3  \n",
      "465798        9.49      3  \n",
      "370715        9.49      5  \n",
      "444660        9.49      5  \n",
      "464502        9.49      5  \n"
     ]
    }
   ],
   "source": [
    "def findMyHotel(dataframe, country, tags, sortBy, stars):\n",
    "    \n",
    "    #country mask\n",
    "    countryMask=dataframe['countries'].str.contains(country, case=False)\n",
    "\n",
    "\n",
    "    #tag masks\n",
    "    tagMasks=[dataframe['Tags'].str.contains(eachTag, case=False) for eachTag in tags]\n",
    "    combinedMask=pd.Series([True]*len(dataframe))\n",
    "    #combining tag masks\n",
    "    for eachMask in tagMasks:\n",
    "        combinedMask &= eachMask\n",
    "    \n",
    "\n",
    "    #star filtering\n",
    "    starMask=pd.Series([True]*len(dataframe))\n",
    "    if stars!=0 :\n",
    "        if stars==3 :\n",
    "            starMask=dataframe['Stars']==3\n",
    "        elif stars==4 :\n",
    "            starMask=dataframe['Stars']==4\n",
    "        elif stars==5 :\n",
    "            starMask=dataframe['Stars']==5\n",
    "    \n",
    "\n",
    "    #final df\n",
    "    result_df=dataframe[combinedMask & countryMask & starMask]\n",
    "\n",
    "\n",
    "    #sorting data based on filter\n",
    "    if sortBy==0:       #average score sorting\n",
    "        result_df=result_df.sort_values('Average_Score',ascending=False)\n",
    "    elif sortBy==1:     #word score sorting\n",
    "        result_df=result_df.sort_values('Word_Score',ascending=False)\n",
    "    else :\n",
    "        print(\"wrong filter\")\n",
    "        return\n",
    "    \n",
    "    \n",
    "    #trimming and printing the result\n",
    "    result_df.drop_duplicates(['Hotel_Name','Average_Score','Stars'],inplace=True)\n",
    "    result_df=result_df.head(10)\n",
    "    #print(result_df[['countries','Hotel_Name','Average_Score','Word_Score','Stars']])\n",
    "    return result_df[['countries','Hotel_Name','Average_Score','Word_Score','Stars']]\n",
    "\n",
    "\n",
    "my_df=findMyHotel(df,\"AT\",[\"couple\",\"leisure trip\"],1,0)\n",
    "print(my_df)"
   ]
  },
  {
   "cell_type": "code",
   "execution_count": null,
   "metadata": {},
   "outputs": [],
   "source": [
    "def methods():\n",
    "    print(\"Dataframe : df\")\n",
    "    print(\"Find hotel function : findMyHotel(dataframe, country{String}, tags{String array}, sortBy{int}, stars{int})\")\n",
    "\n",
    "methods()"
   ]
  },
  {
   "cell_type": "code",
   "execution_count": 59,
   "metadata": {},
   "outputs": [],
   "source": [
    "import pickle\n",
    "\n",
    "with open(\"hotelModelPickle.pkl\",\"wb\") as f:\n",
    "    pickle.dump(df,f)"
   ]
  },
  {
   "cell_type": "code",
   "execution_count": null,
   "metadata": {},
   "outputs": [],
   "source": [
    "from hotel_utils import methods\n",
    "methods()"
   ]
  },
  {
   "cell_type": "code",
   "execution_count": 60,
   "metadata": {},
   "outputs": [
    {
     "name": "stdout",
     "output_type": "stream",
     "text": [
      "       countries                                    Hotel_Name  Average_Score  \\\n",
      "377338        AT                       Boutiquehotel Das Tyrol            9.4   \n",
      "291575        AT                         Hotel Sans Souci Wien            9.4   \n",
      "342390        AT                 Steigenberger Hotel Herrenhof            9.0   \n",
      "462702        AT                            DO CO Hotel Vienna            9.0   \n",
      "426468        AT                Hotel Landhaus Fuhrgassl Huber            9.0   \n",
      "392532        AT                           Das Opernring Hotel            8.9   \n",
      "395578        AT                          Hotel Beethoven Wien            8.9   \n",
      "376649        AT           Falkensteiner Hotel Wien Margareten            8.9   \n",
      "270448        AT                 Schlosshotel R mischer Kaiser            8.9   \n",
      "445614        AT  Austria Trend Hotel Park Royal Palace Vienna            8.8   \n",
      "\n",
      "        Word_Score  Stars  \n",
      "377338        5.23      3  \n",
      "291575        3.76      3  \n",
      "342390        6.18      3  \n",
      "462702        5.80      3  \n",
      "426468        7.34      3  \n",
      "392532        4.96      3  \n",
      "395578        1.70      3  \n",
      "376649        6.71      3  \n",
      "270448        3.80      3  \n",
      "445614        8.78      3  \n"
     ]
    }
   ],
   "source": [
    "import pickle\n",
    "\n",
    "with open(\"hotelModelPickle.pkl\",\"rb\") as f:\n",
    "    hotelData=pickle.load(f)\n",
    "\n",
    "from hotel_utils import findMyHotel\n",
    "\n",
    "findMyHotel(hotelData,\"AT\",[\"couple\",\"leisure trip\"],0,3)"
   ]
  },
  {
   "cell_type": "code",
   "execution_count": 1,
   "metadata": {},
   "outputs": [
    {
     "data": {
      "text/plain": [
       "pandas.core.frame.DataFrame"
      ]
     },
     "execution_count": 1,
     "metadata": {},
     "output_type": "execute_result"
    }
   ],
   "source": [
    "import pickle\n",
    "\n",
    "hotelData=pickle.load(open(\"hotelModelPickle.pkl\",\"rb\"))\n",
    "type(hotelData)"
   ]
  },
  {
   "cell_type": "code",
   "execution_count": 15,
   "metadata": {},
   "outputs": [
    {
     "data": {
      "text/html": [
       "<div>\n",
       "<style scoped>\n",
       "    .dataframe tbody tr th:only-of-type {\n",
       "        vertical-align: middle;\n",
       "    }\n",
       "\n",
       "    .dataframe tbody tr th {\n",
       "        vertical-align: top;\n",
       "    }\n",
       "\n",
       "    .dataframe thead th {\n",
       "        text-align: right;\n",
       "    }\n",
       "</style>\n",
       "<table border=\"1\" class=\"dataframe\">\n",
       "  <thead>\n",
       "    <tr style=\"text-align: right;\">\n",
       "      <th></th>\n",
       "      <th>Hotel_Address</th>\n",
       "      <th>Average_Score</th>\n",
       "      <th>Hotel_Name</th>\n",
       "      <th>Tags</th>\n",
       "      <th>countries</th>\n",
       "      <th>Stars</th>\n",
       "      <th>Word_Score</th>\n",
       "      <th>Prices</th>\n",
       "    </tr>\n",
       "  </thead>\n",
       "  <tbody>\n",
       "    <tr>\n",
       "      <th>105984</th>\n",
       "      <td>21 rue Moli re 1st arr 75001 Paris FR</td>\n",
       "      <td>9.2</td>\n",
       "      <td>H tel Moli re</td>\n",
       "      <td>solo traveler  club double room  stayed 2 nig...</td>\n",
       "      <td>FR</td>\n",
       "      <td>4</td>\n",
       "      <td>0.64</td>\n",
       "      <td>4200</td>\n",
       "    </tr>\n",
       "  </tbody>\n",
       "</table>\n",
       "</div>"
      ],
      "text/plain": [
       "                                Hotel_Address  Average_Score     Hotel_Name  \\\n",
       "105984  21 rue Moli re 1st arr 75001 Paris FR            9.2  H tel Moli re   \n",
       "\n",
       "                                                     Tags countries  Stars  \\\n",
       "105984   solo traveler  club double room  stayed 2 nig...        FR      4   \n",
       "\n",
       "        Word_Score  Prices  \n",
       "105984        0.64    4200  "
      ]
     },
     "execution_count": 15,
     "metadata": {},
     "output_type": "execute_result"
    }
   ],
   "source": [
    "hotelData.sample()"
   ]
  },
  {
   "cell_type": "code",
   "execution_count": 3,
   "metadata": {},
   "outputs": [],
   "source": [
    "allHotels=[]\n",
    "\n",
    "for i in hotelData[\"Hotel_Name\"]:\n",
    "    if i not in allHotels:\n",
    "        allHotels.append(i)"
   ]
  },
  {
   "cell_type": "code",
   "execution_count": 5,
   "metadata": {},
   "outputs": [],
   "source": [
    "import random\n",
    "Prices={}\n",
    "\n",
    "for i in allHotels:\n",
    "    Prices[i]=random.randint(20,100)*100"
   ]
  },
  {
   "cell_type": "code",
   "execution_count": 6,
   "metadata": {},
   "outputs": [],
   "source": [
    "hotelData[\"Prices\"]=hotelData[\"Hotel_Name\"].map(Prices)"
   ]
  }
 ],
 "metadata": {
  "kernelspec": {
   "display_name": "Python 3",
   "language": "python",
   "name": "python3"
  },
  "language_info": {
   "codemirror_mode": {
    "name": "ipython",
    "version": 3
   },
   "file_extension": ".py",
   "mimetype": "text/x-python",
   "name": "python",
   "nbconvert_exporter": "python",
   "pygments_lexer": "ipython3",
   "version": "3.12.3"
  }
 },
 "nbformat": 4,
 "nbformat_minor": 2
}
