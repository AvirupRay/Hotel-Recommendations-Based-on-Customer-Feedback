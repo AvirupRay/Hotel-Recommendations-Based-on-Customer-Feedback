{
 "cells": [
  {
   "cell_type": "code",
   "execution_count": 11,
   "metadata": {},
   "outputs": [],
   "source": [
    "import pandas as pd\n",
    "\n",
    "df=pd.read_csv(\"ReviewData.csv\")"
   ]
  },
  {
   "cell_type": "code",
   "execution_count": null,
   "metadata": {},
   "outputs": [],
   "source": [
    "df.head()"
   ]
  },
  {
   "cell_type": "code",
   "execution_count": 12,
   "metadata": {},
   "outputs": [
    {
     "name": "stdout",
     "output_type": "stream",
     "text": [
      "<class 'pandas.core.frame.DataFrame'>\n",
      "RangeIndex: 515738 entries, 0 to 515737\n",
      "Data columns (total 6 columns):\n",
      " #   Column         Non-Null Count   Dtype  \n",
      "---  ------         --------------   -----  \n",
      " 0   Hotel_Address  515738 non-null  object \n",
      " 1   Average_Score  515738 non-null  float64\n",
      " 2   Hotel_Name     515738 non-null  object \n",
      " 3   Tags           515738 non-null  object \n",
      " 4   countries      515738 non-null  object \n",
      " 5   Word_Score     515738 non-null  float64\n",
      "dtypes: float64(2), object(4)\n",
      "memory usage: 23.6+ MB\n"
     ]
    }
   ],
   "source": [
    "df.info()"
   ]
  },
  {
   "cell_type": "code",
   "execution_count": null,
   "metadata": {},
   "outputs": [],
   "source": [
    "df.isnull().sum()"
   ]
  },
  {
   "cell_type": "code",
   "execution_count": 13,
   "metadata": {},
   "outputs": [
    {
     "name": "stdout",
     "output_type": "stream",
     "text": [
      "                                 Hotel_Name  Average_Score  Word_Score\n",
      "312953               Mercer Hotel Barcelona            9.5    8.000000\n",
      "11334            Milestone Hotel Kensington            9.5    0.000000\n",
      "176855                       The Soho Hotel            9.5   10.000000\n",
      "356379                            The Toren            9.4    6.666667\n",
      "247519                   The Beaumont Hotel            9.4    4.666667\n",
      "509222               Corinthia Hotel London            9.4   10.000000\n",
      "322951                The Guesthouse Vienna            9.4    5.384615\n",
      "324753  Best Western Premier Kaiserhof Wien            9.4    8.000000\n",
      "214905                          Hotel Monge            9.4   10.000000\n",
      "16675        Intercontinental London The O2            9.4    6.842105\n"
     ]
    }
   ],
   "source": [
    "def hotelsFromTags(dataframe, tags):\n",
    "\n",
    "    #boolean mask for each tag\n",
    "    tagMasks=[dataframe['Tags'].str.contains(eachtag, case=False) for eachtag in tags]\n",
    "\n",
    "    #tagMask makes different Masking lists for each tag, ie 5 tags as input will make 5 different masking lists\n",
    "    #so use combined mask to combie them\n",
    "\n",
    "    combinedMask=pd.Series([True]*len(dataframe))\n",
    "    for eachMask in tagMasks:\n",
    "        combinedMask &= eachMask\n",
    "\n",
    "    #print(combinedMask)\n",
    "    \n",
    "    #now filtering the dataframe on the basis of the combined mask and other filters\n",
    "    result_df=dataframe[combinedMask]\n",
    "    result_df=result_df.sort_values('Average_Score',ascending=False)\n",
    "    result_df.drop_duplicates(['Hotel_Name','Average_Score'],inplace=True)\n",
    "    result_df=result_df.head(10)\n",
    "    print(result_df[['Hotel_Name','Average_Score','Word_Score']])\n",
    "\n",
    "hotelsFromTags(df, [\"with a pet\"])\n"
   ]
  },
  {
   "cell_type": "code",
   "execution_count": 14,
   "metadata": {},
   "outputs": [],
   "source": [
    "import pickle\n",
    "\n",
    "hotelModel={'df':df, 'hotelsFromTags':hotelsFromTags }\n",
    "\n",
    "with open('hotelModelPickle.pkl','wb') as f:\n",
    "    pickle.dump(hotelModel, f)"
   ]
  },
  {
   "cell_type": "code",
   "execution_count": 15,
   "metadata": {},
   "outputs": [],
   "source": [
    "with open('hotelModelPickle.pkl', 'rb') as f:\n",
    "    modelData = pickle.load(f)"
   ]
  },
  {
   "cell_type": "code",
   "execution_count": 16,
   "metadata": {},
   "outputs": [],
   "source": [
    "df2=modelData['df']\n",
    "tagSearch=modelData['hotelsFromTags']"
   ]
  },
  {
   "cell_type": "code",
   "execution_count": 18,
   "metadata": {},
   "outputs": [
    {
     "name": "stdout",
     "output_type": "stream",
     "text": [
      "                                          Hotel_Name  Average_Score  \\\n",
      "54742                                     Ritz Paris            9.8   \n",
      "398993                              Hotel The Serras            9.6   \n",
      "316615                             Hotel Casa Camper            9.6   \n",
      "14807                                Haymarket Hotel            9.6   \n",
      "402284                         H10 Casa Mimosa 4 Sup            9.6   \n",
      "185695                                            41            9.6   \n",
      "177045           H tel de La Tamise Esprit de France            9.6   \n",
      "291478  Taj 51 Buckingham Gate Suites and Residences            9.5   \n",
      "312815                        Mercer Hotel Barcelona            9.5   \n",
      "391000                                Ham Yard Hotel            9.5   \n",
      "\n",
      "        Word_Score  \n",
      "54742     0.000000  \n",
      "398993   10.000000  \n",
      "316615    8.000000  \n",
      "14807     0.000000  \n",
      "402284    3.376623  \n",
      "185695   10.000000  \n",
      "177045    0.000000  \n",
      "291478   10.000000  \n",
      "312815    2.343750  \n",
      "391000    8.285714  \n"
     ]
    }
   ],
   "source": [
    "tagSearch(df2, ['leisure trip','couple'])"
   ]
  }
 ],
 "metadata": {
  "kernelspec": {
   "display_name": "Python 3",
   "language": "python",
   "name": "python3"
  },
  "language_info": {
   "codemirror_mode": {
    "name": "ipython",
    "version": 3
   },
   "file_extension": ".py",
   "mimetype": "text/x-python",
   "name": "python",
   "nbconvert_exporter": "python",
   "pygments_lexer": "ipython3",
   "version": "3.12.3"
  }
 },
 "nbformat": 4,
 "nbformat_minor": 2
}
