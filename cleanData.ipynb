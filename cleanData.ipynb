{
 "cells": [
  {
   "cell_type": "code",
   "execution_count": 2,
   "metadata": {},
   "outputs": [],
   "source": [
    "import pandas as pd\n",
    "\n",
    "df=pd.read_csv(\"ReviewData.csv\")"
   ]
  },
  {
   "cell_type": "code",
   "execution_count": null,
   "metadata": {},
   "outputs": [],
   "source": [
    "df.head()"
   ]
  },
  {
   "cell_type": "code",
   "execution_count": null,
   "metadata": {},
   "outputs": [],
   "source": [
    "df.info()"
   ]
  },
  {
   "cell_type": "code",
   "execution_count": null,
   "metadata": {},
   "outputs": [],
   "source": [
    "df.isnull().sum()"
   ]
  },
  {
   "cell_type": "code",
   "execution_count": null,
   "metadata": {},
   "outputs": [],
   "source": [
    "def hotelsFromTags(dataframe, tags):\n",
    "\n",
    "    #boolean mask for each tag\n",
    "    tagMasks=[dataframe['Tags'].str.contains(eachtag, case=False) for eachtag in tags]\n",
    "\n",
    "    #tagMask makes different Masking lists for each tag, ie 5 tags as input will make 5 different masking lists\n",
    "    #so use combined mask to combie them\n",
    "\n",
    "    combinedMask=pd.Series([True]*len(dataframe))\n",
    "    for eachMask in tagMasks:\n",
    "        combinedMask &= eachMask\n",
    "\n",
    "    #print(combinedMask)\n",
    "    \n",
    "    #now filtering the dataframe on the basis of the combined mask and other filters\n",
    "    result_df=dataframe[combinedMask]\n",
    "    result_df=result_df.sort_values('Average_Score',ascending=False)\n",
    "    result_df.drop_duplicates(['Hotel_Name','Average_Score'],inplace=True)\n",
    "    result_df=result_df.head(10)\n",
    "    print(result_df[['Hotel_Name','Average_Score','Word_Score','Stars']])\n",
    "\n",
    "hotelsFromTags(df, [\"with a pet\"])\n"
   ]
  },
  {
   "cell_type": "code",
   "execution_count": null,
   "metadata": {},
   "outputs": [],
   "source": [
    "import pickle\n",
    "\n",
    "hotelModel={'df':df, 'hotelsFromTags':hotelsFromTags }\n",
    "\n",
    "with open('hotelModelPickle.pkl','wb') as f:\n",
    "    pickle.dump(hotelModel, f)"
   ]
  },
  {
   "cell_type": "code",
   "execution_count": null,
   "metadata": {},
   "outputs": [],
   "source": [
    "with open('hotelModelPickle.pkl', 'rb') as f:\n",
    "    modelData = pickle.load(f)\n",
    "\n",
    "df2=modelData['df']\n",
    "tagSearch=modelData['hotelsFromTags']\n",
    "\n",
    "tagSearch(df2, ['leisure trip','couple'])"
   ]
  },
  {
   "cell_type": "code",
   "execution_count": null,
   "metadata": {},
   "outputs": [],
   "source": [
    "import random\n",
    "hotelNames=df['Hotel_Name']\n",
    "allHotels=[]\n",
    "\n",
    "for i in hotelNames:\n",
    "    if i not in allHotels:\n",
    "        allHotels.append(i)\n",
    "\n",
    "hotelStars={}\n",
    "for i in allHotels:\n",
    "    hotelStars[i]=random.randint(3,5)\n",
    "\n",
    "print(hotelStars)"
   ]
  },
  {
   "cell_type": "code",
   "execution_count": null,
   "metadata": {},
   "outputs": [],
   "source": [
    "df['Stars']=df['Hotel_Name'].map(hotelStars)"
   ]
  },
  {
   "cell_type": "code",
   "execution_count": null,
   "metadata": {},
   "outputs": [],
   "source": [
    "df.head()"
   ]
  },
  {
   "cell_type": "code",
   "execution_count": null,
   "metadata": {},
   "outputs": [],
   "source": [
    "df.to_csv(\"ReviewData.csv\",index=False)"
   ]
  },
  {
   "cell_type": "code",
   "execution_count": null,
   "metadata": {},
   "outputs": [],
   "source": [
    "df.Stars.unique()"
   ]
  },
  {
   "cell_type": "markdown",
   "metadata": {},
   "source": [
    "Find my Hotel Function"
   ]
  },
  {
   "cell_type": "code",
   "execution_count": null,
   "metadata": {},
   "outputs": [],
   "source": [
    "def findMyHotel(dataframe, country, tags, sortBy, stars):\n",
    "    \n",
    "    #country mask\n",
    "    countryMask=dataframe['countries'].str.contains(country, case=False)\n",
    "\n",
    "\n",
    "    #tag masks\n",
    "    tagMasks=[dataframe['Tags'].str.contains(eachTag, case=False) for eachTag in tags]\n",
    "    combinedMask=pd.Series([True]*len(dataframe))\n",
    "    #combining tag masks\n",
    "    for eachMask in tagMasks:\n",
    "        combinedMask &= eachMask\n",
    "    \n",
    "\n",
    "    #star filtering\n",
    "    starMask=pd.Series([True]*len(dataframe))\n",
    "    if stars!=0 :\n",
    "        if stars==3 :\n",
    "            starMask=dataframe['Stars']==3\n",
    "        elif stars==4 :\n",
    "            starMask=dataframe['Stars']==4\n",
    "        elif stars==5 :\n",
    "            starMask=dataframe['Stars']==5\n",
    "    \n",
    "\n",
    "    #final df\n",
    "    result_df=dataframe[combinedMask & countryMask & starMask]\n",
    "\n",
    "\n",
    "    #sorting data based on filter\n",
    "    if sortBy==0:       #average score sorting\n",
    "        result_df=result_df.sort_values('Average_Score',ascending=False)\n",
    "    elif sortBy==1:     #word score sorting\n",
    "        result_df=result_df.sort_values('Word_Score',ascending=False)\n",
    "    else :\n",
    "        print(\"wrong filter\")\n",
    "        return\n",
    "    \n",
    "    \n",
    "    #trimming and printing the result\n",
    "    result_df.drop_duplicates(['Hotel_Name','Average_Score','Stars'],inplace=True)\n",
    "    result_df=result_df.head(10)\n",
    "    print(result_df[['countries','Hotel_Name','Average_Score','Word_Score','Stars']])\n",
    "\n",
    "\n",
    "findMyHotel(df,\"AT\",[\"couple\",\"leisure trip\"],0,5)"
   ]
  },
  {
   "cell_type": "code",
   "execution_count": null,
   "metadata": {},
   "outputs": [],
   "source": [
    "def methods():\n",
    "    print(\"Dataframe : df\")\n",
    "    print(\"Find hotel function : findMyHotel(dataframe, country{String}, tags{String array}, sortBy{int}, stars{int})\")\n",
    "\n",
    "methods()"
   ]
  },
  {
   "cell_type": "code",
   "execution_count": 3,
   "metadata": {},
   "outputs": [],
   "source": [
    "import pickle\n",
    "\n",
    "hotelModel=df\n",
    "\n",
    "with open(\"hotelModelPickle.pkl\",\"wb\") as f:\n",
    "    pickle.dump(hotelModel,f)"
   ]
  },
  {
   "cell_type": "code",
   "execution_count": null,
   "metadata": {},
   "outputs": [],
   "source": [
    "import pickle\n",
    "with open(\"hotelModelPickle.pkl\",\"rb\") as f:\n",
    "    hotelModel2=pickle.load(f)\n",
    "\n",
    "methods2=hotelModel2['methods']\n",
    "methods2()"
   ]
  },
  {
   "cell_type": "code",
   "execution_count": null,
   "metadata": {},
   "outputs": [],
   "source": [
    "import pickle\n",
    "\n",
    "if __name__==\"__main__\":\n",
    "    with open(\"hotelModelPickle.pkl\",\"rb\") as f:\n",
    "        hotelModel3=pickle.load(f)\n",
    "\n",
    "methods3=hotelModel3['methods']\n",
    "methods3()"
   ]
  }
 ],
 "metadata": {
  "kernelspec": {
   "display_name": "Python 3",
   "language": "python",
   "name": "python3"
  },
  "language_info": {
   "codemirror_mode": {
    "name": "ipython",
    "version": 3
   },
   "file_extension": ".py",
   "mimetype": "text/x-python",
   "name": "python",
   "nbconvert_exporter": "python",
   "pygments_lexer": "ipython3",
   "version": "3.12.3"
  }
 },
 "nbformat": 4,
 "nbformat_minor": 2
}
