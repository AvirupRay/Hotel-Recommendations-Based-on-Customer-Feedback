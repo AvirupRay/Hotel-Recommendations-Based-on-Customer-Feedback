{
 "cells": [
  {
   "cell_type": "code",
   "execution_count": 2,
   "metadata": {},
   "outputs": [],
   "source": [
    "import pandas as pd\n",
    "\n",
    "df=pd.read_csv(\"ReviewData.csv\")"
   ]
  },
  {
   "cell_type": "code",
   "execution_count": null,
   "metadata": {},
   "outputs": [],
   "source": [
    "df.head()"
   ]
  },
  {
   "cell_type": "code",
   "execution_count": null,
   "metadata": {},
   "outputs": [],
   "source": [
    "df.info()"
   ]
  },
  {
   "cell_type": "code",
   "execution_count": null,
   "metadata": {},
   "outputs": [],
   "source": [
    "df.isnull().sum()"
   ]
  },
  {
   "cell_type": "code",
   "execution_count": null,
   "metadata": {},
   "outputs": [],
   "source": [
    "def hotelsFromTags(dataframe, tags):\n",
    "\n",
    "    #boolean mask for each tag\n",
    "    tagMasks=[dataframe['Tags'].str.contains(eachtag, case=False) for eachtag in tags]\n",
    "\n",
    "    #tagMask makes different Masking lists for each tag, ie 5 tags as input will make 5 different masking lists\n",
    "    #so use combined mask to combie them\n",
    "\n",
    "    combinedMask=pd.Series([True]*len(dataframe))\n",
    "    for eachMask in tagMasks:\n",
    "        combinedMask &= eachMask\n",
    "\n",
    "    #print(combinedMask)\n",
    "    \n",
    "    #now filtering the dataframe on the basis of the combined mask and other filters\n",
    "    result_df=dataframe[combinedMask]\n",
    "    result_df=result_df.sort_values('Average_Score',ascending=False)\n",
    "    result_df.drop_duplicates(['Hotel_Name','Average_Score'],inplace=True)\n",
    "    result_df=result_df.head(10)\n",
    "    print(result_df[['Hotel_Name','Average_Score','Word_Score','Stars']])\n",
    "\n",
    "hotelsFromTags(df, [\"with a pet\"])\n"
   ]
  },
  {
   "cell_type": "code",
   "execution_count": null,
   "metadata": {},
   "outputs": [],
   "source": [
    "import pickle\n",
    "\n",
    "hotelModel={'df':df, 'hotelsFromTags':hotelsFromTags }\n",
    "\n",
    "with open('hotelModelPickle.pkl','wb') as f:\n",
    "    pickle.dump(hotelModel, f)"
   ]
  },
  {
   "cell_type": "code",
   "execution_count": null,
   "metadata": {},
   "outputs": [],
   "source": [
    "with open('hotelModelPickle.pkl', 'rb') as f:\n",
    "    modelData = pickle.load(f)\n",
    "\n",
    "df2=modelData['df']\n",
    "tagSearch=modelData['hotelsFromTags']\n",
    "\n",
    "tagSearch(df2, ['leisure trip','couple'])"
   ]
  },
  {
   "cell_type": "code",
   "execution_count": null,
   "metadata": {},
   "outputs": [],
   "source": [
    "import random\n",
    "hotelNames=df['Hotel_Name']\n",
    "allHotels=[]\n",
    "\n",
    "for i in hotelNames:\n",
    "    if i not in allHotels:\n",
    "        allHotels.append(i)\n",
    "\n",
    "hotelStars={}\n",
    "for i in allHotels:\n",
    "    hotelStars[i]=random.randint(3,5)\n",
    "\n",
    "print(hotelStars)"
   ]
  },
  {
   "cell_type": "code",
   "execution_count": null,
   "metadata": {},
   "outputs": [],
   "source": [
    "df['Stars']=df['Hotel_Name'].map(hotelStars)"
   ]
  },
  {
   "cell_type": "code",
   "execution_count": null,
   "metadata": {},
   "outputs": [],
   "source": [
    "df.head()"
   ]
  },
  {
   "cell_type": "code",
   "execution_count": null,
   "metadata": {},
   "outputs": [],
   "source": [
    "df.to_csv(\"ReviewData.csv\",index=False)"
   ]
  },
  {
   "cell_type": "code",
   "execution_count": null,
   "metadata": {},
   "outputs": [],
   "source": [
    "df.Stars.unique()"
   ]
  },
  {
   "cell_type": "markdown",
   "metadata": {},
   "source": [
    "Find my Hotel Function"
   ]
  },
  {
   "cell_type": "code",
   "execution_count": null,
   "metadata": {},
   "outputs": [],
   "source": [
    "def findMyHotel(dataframe, country, tags, sortBy, stars):\n",
    "    \n",
    "    #country mask\n",
    "    countryMask=dataframe['countries'].str.contains(country, case=False)\n",
    "\n",
    "\n",
    "    #tag masks\n",
    "    tagMasks=[dataframe['Tags'].str.contains(eachTag, case=False) for eachTag in tags]\n",
    "    combinedMask=pd.Series([True]*len(dataframe))\n",
    "    #combining tag masks\n",
    "    for eachMask in tagMasks:\n",
    "        combinedMask &= eachMask\n",
    "    \n",
    "\n",
    "    #star filtering\n",
    "    starMask=pd.Series([True]*len(dataframe))\n",
    "    if stars!=0 :\n",
    "        if stars==3 :\n",
    "            starMask=dataframe['Stars']==3\n",
    "        elif stars==4 :\n",
    "            starMask=dataframe['Stars']==4\n",
    "        elif stars==5 :\n",
    "            starMask=dataframe['Stars']==5\n",
    "    \n",
    "\n",
    "    #final df\n",
    "    result_df=dataframe[combinedMask & countryMask & starMask]\n",
    "\n",
    "\n",
    "    #sorting data based on filter\n",
    "    if sortBy==0:       #average score sorting\n",
    "        result_df=result_df.sort_values('Average_Score',ascending=False)\n",
    "    elif sortBy==1:     #word score sorting\n",
    "        result_df=result_df.sort_values('Word_Score',ascending=False)\n",
    "    else :\n",
    "        print(\"wrong filter\")\n",
    "        return\n",
    "    \n",
    "    \n",
    "    #trimming and printing the result\n",
    "    result_df.drop_duplicates(['Hotel_Name','Average_Score','Stars'],inplace=True)\n",
    "    result_df=result_df.head(10)\n",
    "    print(result_df[['countries','Hotel_Name','Average_Score','Word_Score','Stars']])\n",
    "\n",
    "\n",
    "findMyHotel(df,\"AT\",[\"couple\",\"leisure trip\"],0,5)"
   ]
  },
  {
   "cell_type": "code",
   "execution_count": null,
   "metadata": {},
   "outputs": [],
   "source": [
    "def methods():\n",
    "    print(\"Dataframe : df\")\n",
    "    print(\"Find hotel function : findMyHotel(dataframe, country{String}, tags{String array}, sortBy{int}, stars{int})\")\n",
    "\n",
    "methods()"
   ]
  },
  {
   "cell_type": "code",
   "execution_count": 3,
   "metadata": {},
   "outputs": [],
   "source": [
    "import pickle\n",
    "\n",
    "hotelModel=df\n",
    "\n",
    "with open(\"hotelModelPickle.pkl\",\"wb\") as f:\n",
    "    pickle.dump(hotelModel,f)"
   ]
  },
  {
   "cell_type": "code",
   "execution_count": 4,
   "metadata": {},
   "outputs": [
    {
     "name": "stdout",
     "output_type": "stream",
     "text": [
      "Dataframe : df\n",
      "Find hotel function : findMyHotel(dataframe, country{String}, tags{String array}, sortBy{int}, stars{int})\n"
     ]
    }
   ],
   "source": [
    "from hotel_utils import methods\n",
    "methods()"
   ]
  },
  {
   "cell_type": "code",
   "execution_count": 5,
   "metadata": {},
   "outputs": [
    {
     "name": "stdout",
     "output_type": "stream",
     "text": [
      "       countries                                Hotel_Name  Average_Score  \\\n",
      "404004        AT                         Hotel Sacher Wien            9.5   \n",
      "299897        AT                    Palais Coburg Residenz            9.5   \n",
      "448463        AT                    Hotel K nig von Ungarn            9.3   \n",
      "359058        AT        Small Luxury Hotel Altstadt Vienna            9.3   \n",
      "352755        AT  Hotel Imperial A Luxury Collection Hotel            9.2   \n",
      "446472        AT            Palais Hansen Kempinski Vienna            9.2   \n",
      "430008        AT      Appartement Hotel an der Riemergasse            9.2   \n",
      "501185        AT                    Strandhotel Alte Donau            9.1   \n",
      "465276        AT                            Hotel Stefanie            9.1   \n",
      "418356        AT                Sofitel Vienna Stephansdom            9.0   \n",
      "\n",
      "        Word_Score  Stars  \n",
      "404004   10.000000      5  \n",
      "299897    3.870968      5  \n",
      "448463   10.000000      5  \n",
      "359058   10.000000      5  \n",
      "352755   10.000000      5  \n",
      "446472   10.000000      5  \n",
      "430008   10.000000      5  \n",
      "501185    6.086957      5  \n",
      "465276   10.000000      5  \n",
      "418356    0.000000      5  \n"
     ]
    }
   ],
   "source": [
    "with open(\"hotelModelPickle.pkl\",\"rb\") as f:\n",
    "    hotelData=pickle.load(f)\n",
    "\n",
    "from hotel_utils import findMyHotel\n",
    "\n",
    "findMyHotel(hotelData,\"AT\",[\"couple\",\"leisure trip\"],0,5)"
   ]
  }
 ],
 "metadata": {
  "kernelspec": {
   "display_name": "Python 3",
   "language": "python",
   "name": "python3"
  },
  "language_info": {
   "codemirror_mode": {
    "name": "ipython",
    "version": 3
   },
   "file_extension": ".py",
   "mimetype": "text/x-python",
   "name": "python",
   "nbconvert_exporter": "python",
   "pygments_lexer": "ipython3",
   "version": "3.12.3"
  }
 },
 "nbformat": 4,
 "nbformat_minor": 2
}
