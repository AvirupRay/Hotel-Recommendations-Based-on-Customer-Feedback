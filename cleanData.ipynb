{
 "cells": [
  {
   "cell_type": "code",
   "execution_count": 21,
   "metadata": {},
   "outputs": [],
   "source": [
    "import pandas as pd\n",
    "\n",
    "df=pd.read_csv(\"ReviewData.csv\")"
   ]
  },
  {
   "cell_type": "code",
   "execution_count": 22,
   "metadata": {},
   "outputs": [
    {
     "data": {
      "text/html": [
       "<div>\n",
       "<style scoped>\n",
       "    .dataframe tbody tr th:only-of-type {\n",
       "        vertical-align: middle;\n",
       "    }\n",
       "\n",
       "    .dataframe tbody tr th {\n",
       "        vertical-align: top;\n",
       "    }\n",
       "\n",
       "    .dataframe thead th {\n",
       "        text-align: right;\n",
       "    }\n",
       "</style>\n",
       "<table border=\"1\" class=\"dataframe\">\n",
       "  <thead>\n",
       "    <tr style=\"text-align: right;\">\n",
       "      <th></th>\n",
       "      <th>Hotel_Address</th>\n",
       "      <th>Average_Score</th>\n",
       "      <th>Hotel_Name</th>\n",
       "      <th>Tags</th>\n",
       "      <th>countries</th>\n",
       "      <th>Word_Score</th>\n",
       "    </tr>\n",
       "  </thead>\n",
       "  <tbody>\n",
       "    <tr>\n",
       "      <th>0</th>\n",
       "      <td>s Gravesandestraat 55 Oost 1092 AA Amsterdam NL</td>\n",
       "      <td>7.7</td>\n",
       "      <td>Hotel Arena</td>\n",
       "      <td>leisure trip  couple  duplex double room  sta...</td>\n",
       "      <td>NL</td>\n",
       "      <td>0.539216</td>\n",
       "    </tr>\n",
       "    <tr>\n",
       "      <th>1</th>\n",
       "      <td>s Gravesandestraat 55 Oost 1092 AA Amsterdam NL</td>\n",
       "      <td>7.7</td>\n",
       "      <td>Hotel Arena</td>\n",
       "      <td>leisure trip  couple  duplex double room  sta...</td>\n",
       "      <td>NL</td>\n",
       "      <td>10.000000</td>\n",
       "    </tr>\n",
       "    <tr>\n",
       "      <th>2</th>\n",
       "      <td>s Gravesandestraat 55 Oost 1092 AA Amsterdam NL</td>\n",
       "      <td>7.7</td>\n",
       "      <td>Hotel Arena</td>\n",
       "      <td>leisure trip  family with young children  dup...</td>\n",
       "      <td>NL</td>\n",
       "      <td>6.666667</td>\n",
       "    </tr>\n",
       "    <tr>\n",
       "      <th>3</th>\n",
       "      <td>s Gravesandestraat 55 Oost 1092 AA Amsterdam NL</td>\n",
       "      <td>7.7</td>\n",
       "      <td>Hotel Arena</td>\n",
       "      <td>leisure trip  solo traveler  duplex double ro...</td>\n",
       "      <td>NL</td>\n",
       "      <td>2.203390</td>\n",
       "    </tr>\n",
       "    <tr>\n",
       "      <th>4</th>\n",
       "      <td>s Gravesandestraat 55 Oost 1092 AA Amsterdam NL</td>\n",
       "      <td>7.7</td>\n",
       "      <td>Hotel Arena</td>\n",
       "      <td>leisure trip  couple  suite  stayed 2 nights ...</td>\n",
       "      <td>NL</td>\n",
       "      <td>1.081081</td>\n",
       "    </tr>\n",
       "  </tbody>\n",
       "</table>\n",
       "</div>"
      ],
      "text/plain": [
       "                                      Hotel_Address  Average_Score  \\\n",
       "0   s Gravesandestraat 55 Oost 1092 AA Amsterdam NL            7.7   \n",
       "1   s Gravesandestraat 55 Oost 1092 AA Amsterdam NL            7.7   \n",
       "2   s Gravesandestraat 55 Oost 1092 AA Amsterdam NL            7.7   \n",
       "3   s Gravesandestraat 55 Oost 1092 AA Amsterdam NL            7.7   \n",
       "4   s Gravesandestraat 55 Oost 1092 AA Amsterdam NL            7.7   \n",
       "\n",
       "    Hotel_Name                                               Tags countries  \\\n",
       "0  Hotel Arena   leisure trip  couple  duplex double room  sta...        NL   \n",
       "1  Hotel Arena   leisure trip  couple  duplex double room  sta...        NL   \n",
       "2  Hotel Arena   leisure trip  family with young children  dup...        NL   \n",
       "3  Hotel Arena   leisure trip  solo traveler  duplex double ro...        NL   \n",
       "4  Hotel Arena   leisure trip  couple  suite  stayed 2 nights ...        NL   \n",
       "\n",
       "   Word_Score  \n",
       "0    0.539216  \n",
       "1   10.000000  \n",
       "2    6.666667  \n",
       "3    2.203390  \n",
       "4    1.081081  "
      ]
     },
     "execution_count": 22,
     "metadata": {},
     "output_type": "execute_result"
    }
   ],
   "source": [
    "df.head()"
   ]
  },
  {
   "cell_type": "code",
   "execution_count": 23,
   "metadata": {},
   "outputs": [
    {
     "name": "stdout",
     "output_type": "stream",
     "text": [
      "<class 'pandas.core.frame.DataFrame'>\n",
      "RangeIndex: 515738 entries, 0 to 515737\n",
      "Data columns (total 6 columns):\n",
      " #   Column         Non-Null Count   Dtype  \n",
      "---  ------         --------------   -----  \n",
      " 0   Hotel_Address  515738 non-null  object \n",
      " 1   Average_Score  515738 non-null  float64\n",
      " 2   Hotel_Name     515738 non-null  object \n",
      " 3   Tags           515738 non-null  object \n",
      " 4   countries      515738 non-null  object \n",
      " 5   Word_Score     515738 non-null  float64\n",
      "dtypes: float64(2), object(4)\n",
      "memory usage: 23.6+ MB\n"
     ]
    }
   ],
   "source": [
    "df.info()"
   ]
  },
  {
   "cell_type": "code",
   "execution_count": 25,
   "metadata": {},
   "outputs": [
    {
     "data": {
      "text/plain": [
       "Hotel_Address    0\n",
       "Average_Score    0\n",
       "Hotel_Name       0\n",
       "Tags             0\n",
       "countries        0\n",
       "Word_Score       0\n",
       "dtype: int64"
      ]
     },
     "execution_count": 25,
     "metadata": {},
     "output_type": "execute_result"
    }
   ],
   "source": [
    "df.isnull().sum()"
   ]
  },
  {
   "cell_type": "code",
   "execution_count": 59,
   "metadata": {},
   "outputs": [
    {
     "name": "stdout",
     "output_type": "stream",
     "text": [
      "                        Hotel_Name  Average_Score\n",
      "312953      Mercer Hotel Barcelona            9.5\n",
      "11334   Milestone Hotel Kensington            9.5\n",
      "176855              The Soho Hotel            9.5\n",
      "356379                   The Toren            9.4\n",
      "247519          The Beaumont Hotel            9.4\n",
      "...                            ...            ...\n",
      "233183          Gainsborough Hotel            6.9\n",
      "131236     Bloomsbury Palace Hotel            6.8\n",
      "205542             Commodore Hotel            6.7\n",
      "129863           The Tophams Hotel            6.6\n",
      "242569             Hotel Cavendish            6.4\n",
      "\n",
      "[643 rows x 2 columns]\n"
     ]
    }
   ],
   "source": [
    "def hotelsFromTags(tags):\n",
    "\n",
    "    #boolean mask for each tag\n",
    "    tagMasks=[df['Tags'].str.contains(eachtag, case=False) for eachtag in tags]\n",
    "\n",
    "    #tagMask makes different Masking lists for each tag, ie 5 tags as input will make 5 different masking lists\n",
    "    #so use combined mask to combie them\n",
    "\n",
    "    combinedMask=pd.Series([True]*len(df))\n",
    "    for eachMask in tagMasks:\n",
    "        combinedMask &= eachMask\n",
    "\n",
    "    #print(combinedMask)\n",
    "    \n",
    "    #now filtering the dataframe on the basis of the combined mask and other filters\n",
    "    result_df=df[combinedMask]\n",
    "    result_df=result_df.sort_values('Average_Score',ascending=False)\n",
    "    result_df.drop_duplicates(['Hotel_Name','Average_Score'],inplace=True)\n",
    "    print(result_df[['Hotel_Name','Average_Score']])\n",
    "\n",
    "hotelsFromTags([\"with a pet\"])"
   ]
  }
 ],
 "metadata": {
  "kernelspec": {
   "display_name": "Python 3",
   "language": "python",
   "name": "python3"
  },
  "language_info": {
   "codemirror_mode": {
    "name": "ipython",
    "version": 3
   },
   "file_extension": ".py",
   "mimetype": "text/x-python",
   "name": "python",
   "nbconvert_exporter": "python",
   "pygments_lexer": "ipython3",
   "version": "3.12.3"
  }
 },
 "nbformat": 4,
 "nbformat_minor": 2
}
