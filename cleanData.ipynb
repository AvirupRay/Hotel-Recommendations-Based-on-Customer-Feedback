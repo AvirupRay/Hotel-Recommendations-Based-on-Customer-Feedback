{
 "cells": [
  {
   "cell_type": "code",
   "execution_count": 2,
   "metadata": {},
   "outputs": [],
   "source": [
    "import pandas as pd\n",
    "\n",
    "df=pd.read_csv(\"ReviewData.csv\")"
   ]
  },
  {
   "cell_type": "code",
   "execution_count": 2,
   "metadata": {},
   "outputs": [
    {
     "data": {
      "text/html": [
       "<div>\n",
       "<style scoped>\n",
       "    .dataframe tbody tr th:only-of-type {\n",
       "        vertical-align: middle;\n",
       "    }\n",
       "\n",
       "    .dataframe tbody tr th {\n",
       "        vertical-align: top;\n",
       "    }\n",
       "\n",
       "    .dataframe thead th {\n",
       "        text-align: right;\n",
       "    }\n",
       "</style>\n",
       "<table border=\"1\" class=\"dataframe\">\n",
       "  <thead>\n",
       "    <tr style=\"text-align: right;\">\n",
       "      <th></th>\n",
       "      <th>Hotel_Address</th>\n",
       "      <th>Average_Score</th>\n",
       "      <th>Hotel_Name</th>\n",
       "      <th>Tags</th>\n",
       "      <th>countries</th>\n",
       "      <th>Word_Score</th>\n",
       "      <th>Stars</th>\n",
       "    </tr>\n",
       "  </thead>\n",
       "  <tbody>\n",
       "    <tr>\n",
       "      <th>0</th>\n",
       "      <td>s Gravesandestraat 55 Oost 1092 AA Amsterdam NL</td>\n",
       "      <td>7.7</td>\n",
       "      <td>Hotel Arena</td>\n",
       "      <td>leisure trip  couple  duplex double room  sta...</td>\n",
       "      <td>NL</td>\n",
       "      <td>0.539216</td>\n",
       "      <td>5</td>\n",
       "    </tr>\n",
       "    <tr>\n",
       "      <th>1</th>\n",
       "      <td>s Gravesandestraat 55 Oost 1092 AA Amsterdam NL</td>\n",
       "      <td>7.7</td>\n",
       "      <td>Hotel Arena</td>\n",
       "      <td>leisure trip  couple  duplex double room  sta...</td>\n",
       "      <td>NL</td>\n",
       "      <td>10.000000</td>\n",
       "      <td>5</td>\n",
       "    </tr>\n",
       "    <tr>\n",
       "      <th>2</th>\n",
       "      <td>s Gravesandestraat 55 Oost 1092 AA Amsterdam NL</td>\n",
       "      <td>7.7</td>\n",
       "      <td>Hotel Arena</td>\n",
       "      <td>leisure trip  family with young children  dup...</td>\n",
       "      <td>NL</td>\n",
       "      <td>6.666667</td>\n",
       "      <td>5</td>\n",
       "    </tr>\n",
       "    <tr>\n",
       "      <th>3</th>\n",
       "      <td>s Gravesandestraat 55 Oost 1092 AA Amsterdam NL</td>\n",
       "      <td>7.7</td>\n",
       "      <td>Hotel Arena</td>\n",
       "      <td>leisure trip  solo traveler  duplex double ro...</td>\n",
       "      <td>NL</td>\n",
       "      <td>2.203390</td>\n",
       "      <td>5</td>\n",
       "    </tr>\n",
       "    <tr>\n",
       "      <th>4</th>\n",
       "      <td>s Gravesandestraat 55 Oost 1092 AA Amsterdam NL</td>\n",
       "      <td>7.7</td>\n",
       "      <td>Hotel Arena</td>\n",
       "      <td>leisure trip  couple  suite  stayed 2 nights ...</td>\n",
       "      <td>NL</td>\n",
       "      <td>1.081081</td>\n",
       "      <td>5</td>\n",
       "    </tr>\n",
       "  </tbody>\n",
       "</table>\n",
       "</div>"
      ],
      "text/plain": [
       "                                      Hotel_Address  Average_Score  \\\n",
       "0   s Gravesandestraat 55 Oost 1092 AA Amsterdam NL            7.7   \n",
       "1   s Gravesandestraat 55 Oost 1092 AA Amsterdam NL            7.7   \n",
       "2   s Gravesandestraat 55 Oost 1092 AA Amsterdam NL            7.7   \n",
       "3   s Gravesandestraat 55 Oost 1092 AA Amsterdam NL            7.7   \n",
       "4   s Gravesandestraat 55 Oost 1092 AA Amsterdam NL            7.7   \n",
       "\n",
       "    Hotel_Name                                               Tags countries  \\\n",
       "0  Hotel Arena   leisure trip  couple  duplex double room  sta...        NL   \n",
       "1  Hotel Arena   leisure trip  couple  duplex double room  sta...        NL   \n",
       "2  Hotel Arena   leisure trip  family with young children  dup...        NL   \n",
       "3  Hotel Arena   leisure trip  solo traveler  duplex double ro...        NL   \n",
       "4  Hotel Arena   leisure trip  couple  suite  stayed 2 nights ...        NL   \n",
       "\n",
       "   Word_Score  Stars  \n",
       "0    0.539216      5  \n",
       "1   10.000000      5  \n",
       "2    6.666667      5  \n",
       "3    2.203390      5  \n",
       "4    1.081081      5  "
      ]
     },
     "execution_count": 2,
     "metadata": {},
     "output_type": "execute_result"
    }
   ],
   "source": [
    "df.head()"
   ]
  },
  {
   "cell_type": "code",
   "execution_count": 3,
   "metadata": {},
   "outputs": [
    {
     "name": "stdout",
     "output_type": "stream",
     "text": [
      "<class 'pandas.core.frame.DataFrame'>\n",
      "RangeIndex: 515738 entries, 0 to 515737\n",
      "Data columns (total 7 columns):\n",
      " #   Column         Non-Null Count   Dtype  \n",
      "---  ------         --------------   -----  \n",
      " 0   Hotel_Address  515738 non-null  object \n",
      " 1   Average_Score  515738 non-null  float64\n",
      " 2   Hotel_Name     515738 non-null  object \n",
      " 3   Tags           515738 non-null  object \n",
      " 4   countries      515738 non-null  object \n",
      " 5   Word_Score     515738 non-null  float64\n",
      " 6   Stars          515738 non-null  int64  \n",
      "dtypes: float64(2), int64(1), object(4)\n",
      "memory usage: 27.5+ MB\n"
     ]
    }
   ],
   "source": [
    "df.info()"
   ]
  },
  {
   "cell_type": "code",
   "execution_count": 75,
   "metadata": {},
   "outputs": [
    {
     "data": {
      "text/plain": [
       "Hotel_Address    0\n",
       "Average_Score    0\n",
       "Hotel_Name       0\n",
       "Tags             0\n",
       "countries        0\n",
       "Word_Score       0\n",
       "Stars            0\n",
       "dtype: int64"
      ]
     },
     "execution_count": 75,
     "metadata": {},
     "output_type": "execute_result"
    }
   ],
   "source": [
    "df.isnull().sum()"
   ]
  },
  {
   "cell_type": "code",
   "execution_count": null,
   "metadata": {},
   "outputs": [],
   "source": [
    "def hotelsFromTags(dataframe, tags):\n",
    "\n",
    "    #boolean mask for each tag\n",
    "    tagMasks=[dataframe['Tags'].str.contains(eachtag, case=False) for eachtag in tags]\n",
    "\n",
    "    #tagMask makes different Masking lists for each tag, ie 5 tags as input will make 5 different masking lists\n",
    "    #so use combined mask to combie them\n",
    "\n",
    "    combinedMask=pd.Series([True]*len(dataframe))\n",
    "    for eachMask in tagMasks:\n",
    "        combinedMask &= eachMask\n",
    "\n",
    "    #print(combinedMask)\n",
    "    \n",
    "    #now filtering the dataframe on the basis of the combined mask and other filters\n",
    "    result_df=dataframe[combinedMask]\n",
    "    result_df=result_df.sort_values('Average_Score',ascending=False)\n",
    "    result_df.drop_duplicates(['Hotel_Name','Average_Score'],inplace=True)\n",
    "    result_df=result_df.head(10)\n",
    "    print(result_df[['Hotel_Name','Average_Score','Word_Score','Stars']])\n",
    "\n",
    "hotelsFromTags(df, [\"with a pet\"])\n"
   ]
  },
  {
   "cell_type": "code",
   "execution_count": null,
   "metadata": {},
   "outputs": [],
   "source": [
    "import pickle\n",
    "\n",
    "hotelModel={'df':df, 'hotelsFromTags':hotelsFromTags }\n",
    "\n",
    "with open('hotelModelPickle.pkl','wb') as f:\n",
    "    pickle.dump(hotelModel, f)"
   ]
  },
  {
   "cell_type": "code",
   "execution_count": null,
   "metadata": {},
   "outputs": [],
   "source": [
    "with open('hotelModelPickle.pkl', 'rb') as f:\n",
    "    modelData = pickle.load(f)\n",
    "\n",
    "df2=modelData['df']\n",
    "tagSearch=modelData['hotelsFromTags']\n",
    "\n",
    "tagSearch(df2, ['leisure trip','couple'])"
   ]
  },
  {
   "cell_type": "code",
   "execution_count": 78,
   "metadata": {},
   "outputs": [
    {
     "name": "stdout",
     "output_type": "stream",
     "text": [
      "{'Hotel Arena': 5, 'K K Hotel George': 5, 'Apex Temple Court Hotel': 5, 'The Park Grand London Paddington': 5, 'Monhotel Lounge SPA': 3, 'Kube Hotel Ice Bar': 3, 'The Principal London': 4, 'Park Plaza County Hall London': 3, 'One Aldwych': 3, 'Splendid Etoile': 5, 'Hotel Trianon Rive Gauche': 3, 'InterContinental London Park Lane': 3, 'Novotel Suites Paris Nord 18 me': 3, 'Grand Royale London Hyde Park': 5, 'Milestone Hotel Kensington': 5, 'Crowne Plaza London Kings Cross': 3, 'Select Hotel': 5, 'H tel De Vend me': 4, 'Pullman Paris Centre Bercy': 3, 'Gardette Park Hotel': 4, 'Hotel Panache': 5, 'H tel des Ducs D Anjou': 3, 'Hotel Scribe Paris Opera by Sofitel': 3, 'Novotel London West': 3, 'Haymarket Hotel': 4, 'Intercontinental London The O2': 4, 'H tel Juliana Paris': 4, 'Hotel L Antoine': 3, 'Belfast': 3, 'Shangri La Hotel Paris': 5, 'Mercure Paris Tour Eiffel Pont Mirabeau': 4, 'Knightsbridge Hotel': 3, 'The London EDITION': 4, 'The Cranley Hotel': 5, 'Hotel Le 10 BIS': 5, 'The Nadler Soho': 5, 'Grange St Paul s Hotel': 3, 'The Ampersand Hotel': 5, 'Covent Garden Hotel': 4, 'The Nadler Victoria': 5, 'Novotel London Tower Bridge': 5, 'Crowne Plaza Paris R publique': 5, 'Le Metropolitan a Tribute Portfolio Hotel': 4, 'Atala Champs Elys es': 4, 'H tel de Jos phine BONAPARTE': 4, 'Maison Souquet': 3, 'Hotel Tour d Auvergne Opera': 4, 'Le Senat': 4, 'Windsor Opera': 3, 'Holiday Inn Paris Montparnasse Pasteur': 5, 'H tel Keppler': 3, 'Les Plumes Hotel': 5, 'Hotel des Tuileries Relais du Silence': 5, 'Bradford Elys es Astotel': 3, 'W London Leicester Square': 3, 'The Victoria': 4, 'Pullman London St Pancras': 3, 'Crowne Plaza London Kensington': 3, 'Doubletree by Hilton London Kensington': 5, 'Ace Hotel London Shoreditch': 5, 'Staybridge Suites London Vauxhall': 3, 'The Grosvenor': 4, 'The Park Tower Knightsbridge a Luxury Collection Hotel': 3, 'Amp re': 4, 'Melia Paris Champs Elys es': 5, 'Le Parisis Paris Tour Eiffel': 4, 'Thistle Kensington Gardens': 3, 'Park Plaza Sherlock Holmes London': 5, 'Hilton Paris Opera': 3, 'The Kensington Hotel': 3, 'Holiday Inn London Stratford City': 3, 'Staybridge Suites London Stratford': 4, 'Shepherd s Bush Boutique Hotel': 5, 'My Bloomsbury': 3, 'Holiday Inn Paris Gare de Lyon Bastille': 3, 'H tel Chaplain Paris Rive Gauche': 5, 'H tel Regina Op ra Grands Boulevards': 4, '11 Cadogan Gardens': 5, 'The Wellesley Knightsbridge a Luxury Collection Hotel London': 3, 'Hotel Astor Saint Honor ': 4, 'Op ra Marigny': 3, 'H tel Diva Opera': 4, 'Le Marcel': 5, 'H tel Duo': 3, 'H tel Le Marianne': 4, 'The Rembrandt': 4, 'Hotel Eden': 5, 'H tel de la Bourdonnais': 3, 'Ashburn Hotel': 4, 'Marlin Waterloo': 5, 'Best Western Premier Marais Grands Boulevards': 5, 'Novotel London Waterloo': 4, 'The Athenaeum': 5, 'Park International Hotel': 5, 'Lansbury Heritage Hotel': 5, 'Le Dokhan s a Tribute Portfolio Hotel': 4, 'Le Relais Madeleine': 5, 'Terrass H tel Montmartre by MH': 4, 'Millennium Hotel Paris Opera': 4, 'Waldorf Madeleine': 5, 'Batty Langley s': 5, 'Best Western Mornington Hotel Hyde Park': 5, 'Arbor City': 3, 'Hotel La Lanterne': 3, 'H tel Square Louvois': 3, 'Hotel Marignan Champs Elys es': 3, 'Le Grey Hotel': 3, 'Le Pavillon des Lettres': 5, 'H tel San R gis': 4, 'Garden Elys e': 3, 'Hotel Louvre Montana': 3, 'Ambassadors Bloomsbury': 3, 'Le 123 S bastopol Astotel': 4, 'Le 123 Elysees Astotel': 5, 'The Bryson Hotel': 4, 'Best Western Mercedes Arc de Triomphe': 3, 'London Marriott Hotel Regents Park': 4, 'Hilton London Hyde Park': 5, 'Staunton Hotel B B': 5, '1K Hotel': 4, 'H tel Westminster': 3, 'L H tel': 4, 'Mercure Paris Porte d Orleans': 3, 'Maxim Op ra': 3, 'Le Marceau Bastille': 5, 'Hotel Odeon Saint Germain': 4, 'Mercure London Bloomsbury Hotel': 4, 'The Chamberlain': 3, 'Radisson Blu Edwardian Grafton': 4, 'La Villa Haussmann': 5, 'London Marriott Hotel Marble Arch': 3, 'Saint Georges Hotel': 3, 'Park Grand London Lancaster Gate': 4, 'The Henrietta Hotel': 5, 'Sofitel Paris Arc De Triomphe': 5, 'Hotel Mercure La Sorbonne Saint Germain des Pr s': 4, 'La Tremoille Paris': 5, 'Hotel Op ra Richepanse': 4, 'H tel Duc De St Simon': 3, 'Hotel Le Six': 4, 'The Bailey s Hotel London': 3, 'London Marriott Hotel Park Lane': 4, 'Best Western Premier Louvre Saint Honor ': 5, 'Hotel Indigo London Tower Hill': 4, 'Windermere Hotel': 5, 'La Villa Maillot': 5, 'H tel Madison by MH': 5, 'Mercure London Paddington Hotel': 4, 'Hilton London Paddington': 3, 'London Marriott Hotel Kensington': 4, 'Kensington House Hotel': 4, 'Charlotte Street Hotel': 4, 'The Goring': 4, 'Novotel Paris 14 Porte d Orl ans': 5, 'The Pelham Starhotels Collezione': 5, 'The Montague On The Gardens': 5, 'Ritz Paris': 5, 'Hotel Les Rives de Notre Dame': 5, 'Sofitel Paris Le Faubourg': 4, 'Bassano': 4, 'Best Western Premier Le Swann': 5, 'H tel des Academies et des Arts': 3, 'Hotel Lumen Paris Louvre': 4, 'Le Marquis Eiffel': 3, 'COQ Hotel Paris': 3, 'Mill sime H tel': 3, 'The Leonard Hotel': 3, 'DoubleTree by Hilton London Hyde Park': 4, 'The Ritz London': 5, 'M by Montcalm Shoreditch London Tech City': 5, 'Legend Saint Germain by Elegancia': 4, 'Clayton Crown Hotel London': 3, 'Au Manoir Saint Germain': 5, 'St Paul s Hotel': 5, 'Best Western S vres Montparnasse': 5, 'The Bloomsbury Hotel': 5, 'Nolinski Paris': 5, 'Le Tourville Eiffel': 3, 'Paris Marriott Opera Ambassador Hotel': 3, 'Hotel Indigo London Paddington': 5, 'Idol Hotel': 5, 'H tel California Champs Elys es': 3, 'Hotel de Seze': 3, 'Number Sixteen': 5, 'Hotel Xenia Autograph Collection': 4, 'H tel Hor': 3, 'Britannia International Hotel Canary Wharf': 4, 'Best Western Op ra Batignolles': 3, 'H tel de Banville': 5, 'Villa Eugenie': 5, 'Hilton London Euston': 4, 'Egerton House': 3, 'Millennium Hotel London Knightsbridge': 3, 'H tel Raphael': 3, 'Le 7 Eiffel Hotel': 5, 'Paris Marriott Rive Gauche Hotel': 3, 'Hotel La Place': 5, 'Hotel Le Pera': 3, 'H tel Bedford': 4, 'Drawing Hotel': 5, 'Novotel Paris Centre Gare Montparnasse': 5, 'D clic Hotel': 3, 'Villa d Estr es': 5, 'Bulgari Hotel London': 4, 'Novotel London Greenwich': 3, 'Park Avenue Baker Street': 4, 'Hotel Plaza Elys es': 3, 'Hotel Champs Elys es Friedland by Happyculture': 4, 'Malmaison London': 5, 'The Park City Grand Plaza Kensington Hotel': 4, 'Park Plaza London Riverbank': 5, 'Pullman Paris Tour Eiffel': 3, 'Danubius Hotel Regents Park': 3, 'Hotel Bachaumont': 5, 'Franklin Roosevelt': 3, 'H tel Horset Op ra Best Western Premier Collection': 5, 'Best Western Paris Gare Saint Lazare': 3, 'Splendide Royal Paris': 3, 'The Rockwell': 5, 'The LaLit London': 4, 'Mercure Paris Alesia': 4, 'Courthouse Hotel London': 5, 'Best Western The Boltons Hotel London Kensington': 5, 'Radisson Blu Edwardian Sussex': 5, 'Hotel The Peninsula Paris': 5, 'Le Narcisse Blanc Spa': 4, 'The Pillar Hotel': 4, 'Crowne Plaza London The City': 5, 'H tel Les Dames du Panth on': 5, 'H tel Victor Hugo Paris Kl ber': 4, 'Grand Hotel Saint Michel': 5, 'Hotel Maison Ath n e': 4, 'Relais Du Louvre': 5, 'Pullman Paris Montparnasse': 4, 'Best Western Ducs de Bourgogne': 3, 'Best Western Premier Op ra Opal': 5, 'Amarante Champs Elys es': 5, 'The Gore Hotel Starhotels Collezione': 3, 'The Hoxton Holborn': 4, 'Mercure London Kensington Hotel': 5, 'Royal Garden Hotel': 5, 'Boundary Rooms Suites': 4, 'H tel Ad le Jules': 4, 'Grange White Hall Hotel': 5, 'Hilton London Bankside': 3, 'DoubleTree by Hilton London Ealing': 5, 'Molitor Paris MGallery by Sofitel': 4, 'First Hotel Paris Tour Eiffel': 4, 'DoubleTree by Hilton London Victoria': 3, 'St Ermin s Hotel Autograph Collection': 5, 'Montagu Place Hotel': 4, 'H tel Regina': 3, 'Mercure Paris Gare De Lyon TGV': 5, 'Villa Montparnasse': 5, 'H tel des Champs Elys es': 4, 'Lyric H tel Paris': 4, 'Hotel Design Secret de Paris': 4, 'Hotel Dupond Smith': 4, 'Okko Hotels Paris Porte De Versailles': 4, 'La Villa Royale': 5, 'Hotel Indigo Paris Opera': 3, 'Villa Opera Drouot': 3, 'Novotel Paris Gare De Lyon': 4, 'H tel Belloy Saint Germain By Happyculture': 3, 'Hotel Louis 2': 3, 'InterContinental Paris Le Grand': 3, 'The Trafalgar Hilton': 5, 'Park Lane Mews Hotel': 4, 'Old Ship Inn Hackney': 4, 'The Drayton Court Hotel': 3, 'The Montcalm Marble Arch': 5, 'The Colonnade': 5, 'The Royal Horseguards': 5, 'Grange Fitzrovia Hotel': 3, 'H tel Le M': 3, 'The Hari London': 3, 'citizenM London Bankside': 3, 'Radisson Blu Edwardian Mercer Street': 3, 'Twenty Nevern Square Hotel': 4, 'The Abbey Court Notting Hill': 5, 'Seven Hotel': 3, 'Platine Hotel Spa': 3, 'Mercure Paris Gare Montparnasse': 4, 'Mercure Paris Notre Dame Saint Germain des Pr s': 4, 'Mercure Paris Centre Tour Eiffel': 4, 'Banke H tel': 4, 'Mondrian London': 5, 'Karma Sanctum Soho Hotel': 4, 'NH London Kensington': 3, 'Saint James Albany Paris Hotel Spa': 3, 'Mercure Paris Montparnasse Raspail': 5, 'Golden Tulip Bercy Gare de Lyon 209': 5, 'Montfleuri': 5, 'Simply Rooms Suites': 5, 'Mercure Paris Pigalle Sacre Coeur': 3, 'The Academy': 5, 'Le Meridien Piccadilly': 5, 'Mercure Paris Terminus Nord': 5, 'H tel F licien by Elegancia': 3, 'Le Lavoisier': 5, 'H tel Moli re': 4, 'Vice Versa': 3, 'The Kings Head Hotel': 5, 'H tel Etoile Saint Honor by Happyculture': 3, 'Hotel Le petit Paris': 4, 'Mercure Paris 19 Philharmonie La Villette': 3, 'Royal Garden Champs Elysees': 3, 'H tel Brighton Esprit de France': 5, 'H tel Paris Bastille Boutet MGallery by Sofitel': 3, 'Montcalm Royal London House City of London': 5, 'Conrad London St James': 5, 'L Edmond H tel': 3, 'Novotel Suites Paris Montreuil Vincennes': 4, 'London Marriott Hotel West India Quay': 3, 'London Hilton on Park Lane': 5, 'Radisson Blu Portman Hotel London': 5, 'H tel France d Antin Op ra': 4, 'Hotel Stendhal Place Vend me Paris MGallery by Sofitel': 3, 'H tel De Buci by MH': 3, 'Hotel Parc Saint Severin Esprit de France': 3, 'Hotel Chavanel': 4, 'The Portobello Hotel': 4, 'Royal Saint Honore': 3, 'Landmark London': 4, 'Hilton London Metropole': 4, 'Best Western Seraphine Kensington Olympia': 5, 'Portobello House': 5, 'Le Meurice': 3, 'Maison Albar Hotel Paris C line': 5, 'Henry VIII': 5, 'Goodenough Club': 5, 'Holiday Inn Paris Montmartre': 5, 'Hotel Pulitzer Paris': 3, 'Hotel Vignon': 3, 'London Suites': 3, 'H tel Aiglon Esprit de France': 3, 'Sansi Diputacio': 5, 'Park Plaza Victoria London': 4, 'Grange Beauchamp Hotel': 5, 'The Franklin Hotel Starhotels Collezione': 4, 'Club Quarters Hotel St Paul s': 5, 'Hotel Elys es Bassano': 5, 'Hotel Opera Cadet': 5, 'Phileas Hotel': 3, 'Holiday Inn Paris Elys es': 3, 'H tel Beauchamps': 3, 'Best Western Nouvel Orl ans Montparnasse': 5, 'Hotel Plaza Athenee Paris': 4, 'Mercure Paris Place d Italie': 5, 'The Nadler Kensington': 3, 'H tel Da Vinci Spa': 3, 'XO Hotel': 4, 'H tel Vernet': 3, 'Mandarin Oriental Paris': 3, 'Rosewood London': 3, 'Novotel Paris Vaugirard Montparnasse': 4, 'Mayflower Hotel Apartments': 3, 'Caesar Hotel': 4, 'Hotel Xanadu': 5, 'Draycott Hotel': 4, 'DoubleTree by Hilton London Docklands Riverside': 5, 'Bentley London': 4, 'Mercure Paris Arc de Triomphe Etoile': 5, 'Park Grand Paddington Court': 5, 'The One Barcelona GL': 3, 'The Zetter Townhouse Marylebone': 3, 'Forest Hill Paris la Villette': 5, 'The Levin Hotel': 4, 'The Tophams Hotel': 4, 'Le Pavillon de la Reine Spa': 4, 'Hidden Hotel by Elegancia': 5, 'Le Roch Hotel Spa': 5, 'H10 London Waterloo': 3, 'San Domenico House': 4, 'Bloomsbury Palace Hotel': 5, 'Hotel du Petit Moulin': 5, 'Hotel Atmospheres': 3, 'H tel La Comtesse by Elegancia': 5, 'Hotel Astra Opera Astotel': 4, 'Hotel La Villa Saint Germain Des Pr s': 3, 'Grand Pigalle Hotel': 5, 'Innkeeper s Lodge London Greenwich': 5, 'Morgan Mees': 4, 'Hotel Duminy Vendome': 5, 'Maison Albar H tel Paris Champs Elys es ex Mac Mahon ': 4, 'Holiday Inn London Mayfair': 5, 'H tel Recamier': 4, 'TRYP Paris Op ra': 4, 'Royal Saint Michel': 3, 'Paddington Court Executive Rooms': 5, 'Novotel London Paddington': 4, 'Hyatt Regency Paris Etoile': 5, 'Relais Saint Jacques': 5, 'Hotel Cambon': 5, 'Mercure Paris Montmartre Sacr Coeur': 3, 'Relais Christine': 3, 'Les Matins de Paris Spa': 3, 'Hotel Square': 4, 'H tel Bourgogne Montana by MH': 4, 'The Westin Paris Vend me': 4, 'Hotel Montalembert': 4, 'H tel Mathis Elys es': 3, 'Le Saint Hotel Paris': 5, 'Hotel Le Squara': 4, 'L Hotel Pergol se Paris': 5, 'H tel Mayfair Paris': 5, 'Best Western Plus de Neuville Arc de Triomphe': 5, 'South Place Hotel': 5, 'The Royal Park Hotel': 3, 'Holiday Inn Paris Op ra Grands Boulevards': 4, 'Henley House Hotel': 5, 'Holiday Inn London Camden Lock': 4, 'DoubleTree by Hilton London Westminster': 5, 'Blakemore Hyde Park': 4, 'Hyatt Regency London The Churchill': 5, 'Rathbone': 3, 'Le Belmont Champs Elys es': 4, 'Duret': 4, 'H tel Elysees Mermoz': 3, 'Majestic Hotel Spa': 4, 'BoB Hotel by Elegancia': 5, 'Comfort Inn Suites Kings Cross St Pancras': 5, 'The Queens Gate Hotel': 3, 'Grange Langham Court Hotel': 5, 'Radisson Blu Edwardian Hampshire': 4, 'Four Seasons Hotel George V Paris': 4, 'The Marble Arch London': 5, 'H tel Fabric': 5, 'H tel du Minist re': 5, 'Shangri La Hotel at The Shard London': 4, 'Hotel Les Bulles De Paris': 3, 'Acad mie H tel Saint Germain': 4, 'Plaza Tour Eiffel': 3, 'Park Grand London Kensington': 4, 'Rocco Forte Brown s Hotel': 4, 'Royal Hotel Champs Elys es': 3, 'Best Western Allegro Nation': 4, 'Prince de Galles a Luxury Collection hotel Paris': 5, 'The Beaufort': 5, 'H tel La Parizienne by Elegancia': 5, 'Madeleine Plaza': 4, 'Blakes Hotel': 3, 'Castille Paris Starhotels Collezione': 5, 'H tel D Aubusson': 5, 'Hotel Oscar': 3, 'Best Western Bretagne Montparnasse': 4, 'The Westbridge Hotel': 4, 'Courthouse Hotel Shoreditch': 4, 'ME London by Melia': 4, 'Grange Clarendon Hotel': 5, 'Hotel Indigo London Kensington': 4, 'Novotel Paris 17': 3, 'Rafayel Hotel Spa': 4, 'Norfolk Towers Paddington': 5, 'Artus Hotel by MH': 4, 'Best Western Premier Kapital Op ra': 5, 'Timhotel Op ra Blanche Fontaine': 5, 'H tel Amastan Paris': 4, 'H tel Gustave': 4, 'Best Western Maitrise Hotel Edgware Road': 3, 'Georgian House Hotel': 3, 'Best Western Tour Eiffel Invalides': 4, 'The Chesterfield Mayfair': 3, 'My Chelsea': 5, 'Eiffel Trocad ro': 3, 'Hotel Saint Petersbourg Opera': 4, 'H tel Champs lys es Plaza': 5, 'Melia Paris Tour Eiffel': 3, 'Timhotel Op ra Grands Magasins': 5, 'Dukes Hotel': 3, 'Radisson Blu Edwardian Berkshire': 4, 'Pestana Chelsea Bridge Hotel Spa': 4, 'Arbor Hyde Park': 4, 'Mercure Paris Porte De Versailles Expo': 3, 'Great St Helen Hotel': 4, 'Hotel Whistler': 3, 'Hotel Georgette': 4, 'Westside Arc de Triomphe Hotel': 4, 'Etoile Saint Ferdinand': 5, 'H tel Saint Marc': 5, 'United Lodge Hotel and Apartments': 5, 'H tel Le Walt': 5, 'H tel Le Royal Monceau Raffles Paris': 4, 'Eccleston Square Hotel': 5, 'Nottingham Place Hotel': 5, 'Hotel Claridge Paris': 5, 'Strand Palace Hotel': 4, 'H tel L Echiquier Op ra Paris MGallery by Sofitel': 4, 'H tel De Castiglione': 5, 'Hilton London Olympia': 4, 'Grange Buckingham Hotel': 3, 'The Cleveland': 4, 'Dorset Square Hotel': 3, 'Edouard 7 Paris Op ra': 5, 'Renaissance Paris Arc de Triomphe Hotel': 3, 'Rubens At The Palace': 5, 'every hotel Piccadilly': 5, 'Millennium Gloucester Hotel London': 5, 'Novotel Suites Paris Expo Porte de Versailles': 5, 'K K H tel Cayr Saint Germain des Pr s': 4, 'Fielding Hotel': 3, 'DoubleTree by Hilton Hotel London Marble Arch': 5, 'Holiday Inn London West': 4, 'The Soho Hotel': 3, 'Le Grand H tel de Normandie': 4, 'Monsieur Cadet Hotel Spa Ex Meyerhold Spa ': 3, 'H tel de La Tamise Esprit de France': 4, 'Buddha Bar Hotel Paris': 4, 'Le A': 3, 'Holiday Inn Paris Notre Dame': 4, 'Mercure Paris Opera Garnier': 5, 'Maison Albar Hotel Paris Op ra Diamond': 5, 'Grand H tel Du Palais Royal': 5, 'Best Western Aulivia Op ra': 4, 'Renaissance Paris Vendome Hotel': 3, 'Hotel Park Lane Paris': 4, 'Little Palace Hotel': 4, 'Napoleon Paris': 5, 'Andaz London Liverpool Street': 4, 'Novotel London Canary Wharf': 3, 'H tel de Lille': 4, 'H tel Concorde Montparnasse': 4, 'Suites H tel Helzear Montparnasse': 4, 'Renaissance Paris Republique Hotel Spa': 3, 'citizenM Tower of London': 4, 'Chiswick Rooms': 5, 'Claridge s': 5, 'La Suite West Hyde Park': 3, 'St James Court A Taj Hotel London': 4, 'Elys es R gencia': 4, 'H tel De Sers Champs Elys es Paris': 5, 'Hotel le Lapin Blanc': 4, '41': 3, 'Shaftesbury Suites London Marble Arch': 5, 'Grange Strathmore Hotel': 4, 'H tel R de Paris Boutique Hotel': 3, 'Villa Panth on': 4, 'Trinit Haussmann': 4, 'The RE London Shoreditch': 4, 'London City Suites': 5, 'H tel Crayon Rouge by Elegancia': 3, 'Mercure Paris Opera Grands Boulevards': 5, 'St George s Hotel Wembley': 3, 'Hotel Le Saint Gregoire': 3, 'Le Mathurin Hotel Spa': 5, 'H tel Saint Paul Rive Gauche': 4, 'The Justin James Hotel': 5, 'Millennium Hotel London Mayfair': 5, 'H tel de Varenne': 4, 'A La Villa Madame': 5, 'The Curtain': 3, '45 Park Lane Dorchester Collection': 4, 'Grange Tower Bridge Hotel': 5, 'Le Tsuba Hotel': 4, 'St Martins Lane A Morgans Original': 5, 'H tel Barri re Le Fouquet s': 5, 'Novotel London Blackfriars': 4, 'Hotel Villa Lafayette Paris IX': 5, 'Canary Riverside Plaza Hotel': 4, 'The Marylebone Hotel': 4, 'L Empire Paris': 4, 'The Zetter Townhouse Clerkenwell': 3, 'The Whitechapel': 5, 'Suites H tel Helzear Champs Elys es': 5, 'St George Hotel': 4, 'Best Western Premier Op ra Faubourg Ex Hotel Jules ': 3, 'Pershing Hall': 5, 'The Premier Notting Hill': 5, 'H tel Pont Royal': 4, 'Le G n ral H tel': 5, 'H tel Th r se': 4, 'Best Western Premier Trocadero La Tour': 4, 'Holiday Inn London Whitechapel': 3, 'Washington Mayfair Hotel': 3, 'Radisson Blu Edwardian New Providence Wharf': 3, 'Hilton London Tower Bridge': 3, 'Novotel London Wembley': 3, 'Le Relais M dicis': 5, 'Les Jardins De La Villa Spa': 4, 'Warwick Paris Former Warwick Champs Elysees ': 5, 'Park Hyatt Paris Vendome': 4, 'My Home In Paris': 5, 'Mercure Paris Op ra Faubourg Montmartre': 5, 'Best Western Plus Elys e Secret': 5, 'Villa Beaumarchais': 3, 'H tel Mansart Esprit de France': 4, 'Holiday Inn Paris Gare de l Est': 5, 'Le Cinq Codet': 3, 'La Maison Favart': 4, 'Le Pradey': 3, 'Threadneedles Autograph Collection': 4, 'Sanderson A Morgans Hotel': 4, 'The Arch London': 4, 'Commodore Hotel': 5, 'Golden Tulip Washington Opera': 5, 'Residence Henri IV': 3, 'Hotel du Collectionneur Arc de Triomphe': 5, 'The Westbourne Hyde Park': 3, 'Hotel Le Mareuil': 3, 'Mercure Paris Champs Elys es': 4, 'Best Western Le 18 Paris': 5, 'The Lodge Hotel Putney': 4, 'Shaftesbury Hyde Park International': 4, 'The Montcalm At Brewery London City': 3, 'H tel Powers': 5, 'Villa Lut ce Port Royal': 5, 'Oceania Paris Porte De Versailles': 5, 'BEST WESTERN Maitrise Hotel Maida Vale': 5, 'Novotel London City South': 3, 'The Dorchester Dorchester Collection': 5, 'Mercure Paris Bastille Marais': 4, 'Hilton London Angel Islington': 5, 'Fifty Four Boutique Hotel': 4, 'Chateau Frontenac': 5, 'H tel Du Jeu De Paume': 5, 'The Sumner Hotel': 4, 'W12 Rooms': 4, 'Renaissance Paris Le Parc Trocadero Hotel': 3, 'Shaftesbury Premier London Paddington': 3, 'Hotel Carlton s Montmartre': 3, 'Hotel Monge': 5, 'Mimi s Hotel Soho': 5, 'Victoires Opera': 4, 'Holiday Inn London Oxford Circus': 3, 'Dorsett Shepherds Bush': 4, 'New Linden Hotel': 4, 'Le Burgundy Paris': 4, 'Hotel Sezz Paris': 5, 'Hotel Montaigne': 3, 'Hotel Royal Elys es': 4, 'Mercure Paris Bercy Biblioth que': 3, 'Hazlitt s': 4, 'Park Plaza London Waterloo': 3, 'citizenM London Shoreditch': 4, 'H tel Balzac': 4, 'Victoria Palace Hotel': 3, 'Hotel Eug ne en Ville': 4, 'Newhotel Roblin': 5, 'Le Relais Montmartre': 5, 'Amarante Beau Manoir': 4, 'Hotel Maison FL': 4, 'Balmoral Champs Elys es': 5, 'The Chess Hotel': 4, 'AC Hotel Paris Porte Maillot by Marriott': 4, 'B Montmartre': 3, 'H tel Regent s Garden': 3, 'Mercure Paris 15 Porte de Versailles': 5, 'Hotel Le Placide Saint Germain Des Pr s': 4, 'Hotel VIU Milan': 5, 'Sofitel London St James': 5, 'Baglioni Hotel London The Leading Hotels of the World': 5, 'DoubleTree by Hilton London Islington': 3, 'Nell Hotel Suites': 5, 'Rydges Kensington Hotel': 5, 'Club Quarters Hotel Lincoln s Inn Fields': 5, 'Novotel Paris Centre Tour Eiffel': 5, 'Best Western Plus 61 Paris Nation Hotel': 4, 'Hotel Monsieur': 4, 'Hotel Saint Dominique': 3, 'Clayton Hotel Chiswick': 5, 'Park Plaza London Park Royal': 5, 'Hotel Malte Astotel': 5, 'Best Western Palm Hotel': 4, 'InterContinental Paris Avenue Marceau': 3, 'Mercure Tour Eiffel Grenelle': 4, 'Mercure Paris Bastille Saint Antoine': 3, 'Boutique H tel Konfidentiel': 3, 'The Piccadilly London West End': 3, 'R Kipling by Happyculture': 3, 'Hotel Des Saints Peres Esprit de France': 3, 'Best Western Hotel Montmartre Sacr Coeur': 5, 'Kingsway Hall Hotel': 4, 'Mandarin Oriental Hyde Park London': 4, 'H tel Jos phine by Happyculture': 3, 'Radisson Blu Edwardian Vanderbilt': 5, 'Hotel Le Chat Noir': 4, 'Hotel Cafe Royal': 5, 'Mercure Vaugirard Paris Porte De Versailles': 5, 'Grange Rochester Hotel': 3, 'Gainsborough Hotel': 3, 'H tel Bel Ami': 3, 'St James Hotel Club Mayfair': 5, 'Apex London Wall Hotel': 4, 'Seraphine Kensington Gardens Hotel': 5, 'Hotel de Nell': 4, '9Hotel Republique': 5, 'Goralska R sidences H tel Paris Bastille': 4, 'Club Quarters Hotel Gracechurch': 5, 'Grange Blooms Hotel': 3, 'DoubleTree by Hilton Hotel London Tower of London': 5, 'H tel Baume': 3, 'Hotel West End': 4, 'Arioso': 5, 'H tel Lancaster Paris Champs Elys es': 4, 'Melia Paris Notre Dame': 3, 'Hotel Mademoiselle': 4, 'Hotel Les Bains Paris': 3, 'Hotel Ares Eiffel': 3, 'Francois 1er': 4, 'H tel Montmartre Mon Amour': 3, 'Hotel Monceau Wagram': 5, 'Novotel London Excel': 5, 'Paris Marriott Champs Elysees Hotel': 4, 'Mercure London Bridge': 5, 'H tel Exquis by Elegancia': 5, 'Grange Wellington Hotel': 3, 'Les Jardins Du Marais': 3, 'Hotel Cavendish': 5, 'Park Grand London Hyde Park': 4, 'Shaftesbury Metropolis London Hyde Park': 4, 'Radisson Blu Champs Elys es Paris': 5, 'Hotel Eiffel Blomet': 4, 'Holiday Inn Paris Gare Montparnasse': 5, 'H tel Thoumieux': 5, 'The Exhibitionist Hotel': 5, 'Auteuil Tour Eiffel': 4, 'Ten Manchester Street Hotel': 3, 'Mercure London Hyde Park': 5, 'London Bridge Hotel': 3, 'Derby Alma': 5, 'The Beaumont Hotel': 4, 'Mercure Paris Gobelins Place d Italie': 4, 'H tel Original Paris': 4, 'The Grand at Trafalgar Square': 5, 'Club Quarters Hotel Trafalgar Square': 4, 'The Laslett': 5, 'Novotel Paris Les Halles': 3, 'Melia Paris Vendome': 5, 'Chambiges Elys es': 4, 'MARQUIS Faubourg St Honor Relais Ch teaux': 4, 'H tel Le Bellechasse Saint Germain': 3, 'Hotel Verneuil Saint Germain': 5, 'Hotel Daniel Paris': 3, 'Residence Du Roy': 5, 'La Maison Champs Elys es': 5, 'H tel Arvor Saint Georges': 3, 'The Belgrave Hotel': 3, 'TheWesley': 3, 'Le M ridien Etoile': 5, 'The Hoxton Shoreditch': 4, 'The Cavendish London': 3, 'Avo Hotel': 5, 'Hotel 82 London': 4, 'La Clef Tour Eiffel': 3, 'Best Western Plus Seraphine Hammersmith Hotel': 4, 'La Chambre du Marais': 3, 'Novotel Paris Centre Bercy': 4, 'The Zetter Hotel': 3, 'Grosvenor House Suites by Jumeirah Living': 5, 'Hotel OFF Paris Seine': 4, 'Snob Hotel by Elegancia': 4, 'Sofitel Paris Baltimore Tour Eiffel': 5, '88 Studios': 4, 'Adria Boutique Hotel': 5, 'Best Western Premier Faubourg 88': 5, 'Hotel De Vigny': 5, 'Sydney House Chelsea': 5, 'Radisson Blu Edwardian Bloomsbury Street': 5, 'H tel Le Relais Saint Germain': 5, 'Hotel Moonlight': 3, 'Villa Alessandra': 4, 'Ibis Styles Paris Gare Saint Lazare': 4, 'Golden Tulip Opera de Noailles': 5, 'Best Western Premier Op ra Li ge': 4, 'H tel Cristal Champs Elys es': 5, 'Best Western Le Jardin de Cluny': 3, 'Le Pigalle Hotel': 3, 'Relais H tel du Vieux Paris': 4, 'Victoire Germain': 3, 'Le Littr ': 3, 'Hotel Le Sainte Beuve': 4, 'Hotel Villa Saxe Eiffel': 5, 'Thistle Hyde Park': 3, 'Holiday Inn Paris Saint Germain des Pr s': 4, 'Hotel Spa La Belle Juliette': 5, 'Rochester Champs Elysees': 4, 'DoubleTree by Hilton London West End': 4, 'Hotel d Orsay Esprit de France': 4, 'Mercure Paris Opera Louvre': 5, 'La Villa des Ternes': 5, 'Holiday Inn London Kensington Forum': 5, 'Radisson Blu Edwardian Kenilworth': 3, 'H tel Monna Lisa Champs Elys es': 3, 'H tel Waldorf Trocad ro': 4, 'Best Western Amiral Hotel': 4, 'Hotel Les Th tres': 3, 'Mercure Paris 17 me Saint Lazare Monceau': 3, 'Melia White House Hotel': 4, 'Sir Albert Hotel': 4, 'The Waldorf Hilton': 5, 'Corendon Vitality Hotel Amsterdam': 3, 'Hotel Bellevue Wien': 3, 'Maison Borella': 5, 'Hotel Am Konzerthaus Vienna MGallery by Sofitel': 5, 'Park Hyatt Vienna': 4, 'Hilton Vienna': 3, 'Catalonia Port': 4, 'Hampshire Hotel Rembrandt Square Amsterdam': 4, 'Eurostars Angli': 4, 'Pillows Anna van den Vondel Amsterdam': 5, 'Schlosshotel R mischer Kaiser': 3, 'Hotel Mailberger Hof': 5, 'Best Western Delphi Hotel': 3, 'Apollofirst Boutique Hotel': 3, 'Hilton Amsterdam': 4, 'Apollo Hotel Amsterdam': 4, 'Catalonia Catedral': 3, 'Element Amsterdam': 5, 'Axel Hotel Barcelona Urban Spa Adults Only': 3, 'Cram': 4, 'Urban Lodge Hotel': 4, 'Novotel Wien City': 3, 'The Levante Parliament A Design Hotel': 3, 'Room Mate Gerard': 4, 'H10 Marina Barcelona': 3, 'Barcelona Princess': 5, 'Novotel Barcelona City': 5, 'The Gates Diagonal Barcelona': 5, 'AC Hotel Diagonal L Illa a Marriott Lifestyle Hotel': 4, 'Wilson Boutique Hotel': 3, 'NH Hesperia Barcelona Presidente': 5, 'Hilton Barcelona': 5, 'Vincci Mae': 5, 'Fairmont Rey Juan Carlos I': 4, 'Pullman Barcelona Skipper': 4, 'Hotel Ciutadella Barcelona': 3, 'Catalonia Atenas': 3, 'Tryp Barcelona Apolo Hotel': 5, 'Sansi Pedralbes': 5, 'Crowne Plaza Barcelona Fira Center': 4, 'Gran Hotel Torre Catalunya': 4, 'H10 Itaca': 5, 'Hotel Abbot': 4, 'Sercotel Amister Art Hotel Barcelona': 4, 'Melia Barcelona Sarri ': 3, 'ABaC Restaurant Hotel Barcelona GL Monumento': 5, 'Col n Hotel Barcelona': 4, 'Hotel SB Icaria Barcelona': 4, 'Hotel Barcelona Universal': 3, 'Aparthotel Arai 4 Superior': 5, 'NH Collection Barcelona Podium': 4, 'Hotel Ronda Lesseps': 3, 'Hotel Barcelona Center': 5, 'Olivia Balmes Hotel': 4, 'Catalonia Diagonal Centro': 5, 'The Capital': 5, 'Vienna Sporthotel': 3, 'Megaro Hotel': 4, 'Hotel De Hallen': 3, 'AC Hotel Victoria Suites a Marriott Lifestyle Hotel': 5, 'Catalonia Plaza Catalunya': 4, 'Hotel Regina': 4, 'Hotel Pulitzer': 4, 'Hotel Alimara': 3, 'Thistle Holborn The Kingsley': 3, 'Hotel Boltzmann': 4, 'The Westbury A Luxury Collection Hotel Mayfair London': 5, 'Petit Palace Boqueria Garden': 4, 'Mercer House B ria BCN': 3, 'Hotel ViennArt am Museumsquartier': 3, 'Crowne Plaza London Battersea': 4, 'Amba Hotel Marble Arch': 3, 'Taj 51 Buckingham Gate Suites and Residences': 5, 'Hotel Sans Souci Wien': 3, 'Catalonia La Pedrera': 4, 'Ohla Eixample': 3, 'Jumeirah Carlton Tower': 3, 'Hotel Villa Emilia': 4, 'TWO Hotel Barcelona by Axel 4 Sup Adults Only': 3, 'Hotel Best Western PLUS Alfa Aeropuerto': 4, 'AC Hotel Irla a Marriott Lifestyle Hotel': 3, 'Hotel Barcelona Catedral': 4, 'Arenas Atiram Hotels': 4, 'Holiday Inn London Regent s Park': 4, 'Senator Barcelona Spa Hotel': 5, 'Thistle Euston': 3, 'The Connaught': 3, 'Room Mate Anna': 4, 'Gran Hotel La Florida': 3, 'Ayre Hotel Caspe': 3, 'Doubletree By Hilton London Greenwich': 3, 'Chasse Hotel': 5, 'The Chelsea Harbour Hotel': 3, 'Palais Coburg Residenz': 5, 'Zenit Borrell': 5, 'U232 Hotel': 4, 'Eurostars Monumental': 4, 'Pestana Arena Barcelona': 5, 'Grange City Hotel': 5, 'Holiday Inn London Bloomsbury': 4, 'The Mirror Barcelona': 3, 'Worldhotel Cristoforo Colombo': 4, 'IH Hotels Milano Puccini': 5, 'Best Western Hotel City': 5, 'Ch teau Monfort Relais Ch teaux': 5, 'Palazzo Parigi Hotel Grand Spa Milano': 3, 'Hotel Lloyd': 5, 'Hotel Romana Residence': 4, 'Hotel Crivi s': 4, 'Hotel Galileo': 3, 'Carlyle Brera Hotel': 4, 'Boscolo Milano Autograph Collection': 4, 'Mokinba Hotels King': 4, 'Qualys Hotel Nasco': 3, 'Enterprise Hotel Design Boutique': 3, 'Tryp Barcelona Condal Mar Hotel': 4, 'NH Collection Barcelona Constanza': 5, 'NH Collection Amsterdam Grand Hotel Krasnapolsky': 4, 'Park Plaza Victoria Amsterdam': 5, 'Hotel Amsterdam De Roode Leeuw': 4, 'Swiss tel Amsterdam': 3, 'City Rooms': 4, 'Holiday Inn Amsterdam': 3, 'Jaz Amsterdam': 4, 'Best Western Premier Hotel Couture': 5, 'Mercer Hotel Barcelona': 4, 'Mercure Vienna First': 5, 'Melia Barcelona Sky 4 Sup': 3, 'Bilderberg Garden Hotel': 5, 'Ako Suites Hotel': 4, 'Eurostars Cristal Palace': 4, 'HCC St Moritz': 3, 'Petit Palace Museum': 4, 'NH Amsterdam Noord': 5, 'Primero Primera': 3, 'Hotel 4 Barcelona': 3, 'Melia Vienna': 5, 'Graben Hotel': 5, 'Medinaceli': 5, 'Grand Hotel Downtown': 5, 'Amadi Park Hotel': 5, 'Hotel Casa Camper': 3, 'Holiday Inn London Wembley': 3, 'Austria Trend Hotel Lassalle Wien': 5, 'H10 Art Gallery 4 Sup': 4, 'Hotel Granados 83': 3, 'Best Western PLUS Epping Forest': 3, 'NH Hesperia Barcelona del Mar': 5, 'Novotel Amsterdam City': 5, 'St Pancras Renaissance Hotel London': 4, 'DoubleTree By Hilton London Excel': 4, 'The Guesthouse Vienna': 4, 'Hotel Johann Strauss': 5, 'Hotel Mercure Wien Westbahnhof': 5, 'Savoy Hotel Amsterdam': 4, 'Hotel Okura Amsterdam': 4, 'Hotel Eitlj rg': 5, 'Hotel V Fizeaustraat': 5, 'Mercure Wien Zentrum': 3, 'Best Western Premier Kaiserhof Wien': 4, 'FourSide Hotel Suites Vienna': 4, 'Millennium Copthorne Hotels at Chelsea Football Club': 3, 'IH Hotels Milano Ambasciatori': 3, 'Crowne Plaza Amsterdam South': 3, 'Durrants Hotel': 5, 'Mercure Secession Wien': 3, 'Hotel Well and Come': 4, 'City Hotel Deutschmeister': 4, 'Ayre Hotel Gran V a': 5, 'Sunotel Central': 3, 'Silken Gran Hotel Havana': 4, 'Cotton House Hotel Autograph Collection': 3, 'Hotel Vueling Bcn by HC': 5, 'H10 Casanova': 4, 'Avenida Palace': 5, 'Acta Atrium Palace': 3, 'Hotel Indigo Barcelona Plaza Catalunya': 3, 'Catalonia Passeig de Gr cia 4 Sup': 4, 'Hotel Palace GL': 4, 'Grupotel Gran Via 678': 5, 'Hotel Casa Bonay': 5, 'The Cumberland A Guoman Hotel': 3, 'FourSide Hotel Vienna City Center': 5, 'Hotel Vienna': 4, 'London Marriott Hotel Grosvenor Square': 3, 'Rainers Hotel Vienna': 4, 'Pol Grace Hotel': 5, 'Austria Trend Hotel Bosei Wien': 3, 'Pertschy Palais Hotel': 4, 'Alma Boutique Hotel': 3, 'Flemings Mayfair': 3, 'Hilton London Green Park': 5, 'COMO The Halkin': 4, 'Four Seasons Hotel London at Park Lane': 3, 'Hilton Vienna Danube Waterfront': 4, 'Hotel 55': 4, 'The Harmonie Vienna': 4, 'Hotel Park Villa': 3, 'WestCord Fashion Hotel Amsterdam': 5, 'The Hoxton Amsterdam': 5, 'Ambassade Hotel': 3, 'Banks Mansion All Inclusive Hotel': 4, 'Waldorf Astoria Amsterdam': 5, 'Senator Hotel Vienna': 3, 'Hotel J ger': 4, 'Steigenberger Hotel Herrenhof': 3, 'Radisson Blu Style Hotel Vienna': 4, 'Hilton Garden Inn Vienna South': 3, 'Austria Trend Parkhotel Sch nbrunn Wien': 3, 'Club Hotel Cortina': 4, 'Arion Cityhotel Vienna und Appartements': 4, 'NH Amsterdam Museum Quarter': 4, 'Gartenhotel Altmannsdorf Hotel 1': 4, 'Hilton London Kensington Hotel': 4, 'Hotel Mercure Wien City': 4, 'Courtyard by Marriott Amsterdam Arena Atlas': 5, 'Holiday Inn Amsterdam Arena Towers': 5, 'The Lanesborough': 5, 'Amadi Panorama Hotel': 3, 'Room Mate Aitana': 3, 'DoubleTree by Hilton London Chelsea': 5, 'Hotel G tico': 3, 'Hotel JL No76': 3, 'Bilderberg Hotel Jan Luyken': 3, 'Gran Hotel Barcino': 5, 'Aparthotel Atenea Barcelona': 5, 'Mercure Hotel Amsterdam City South': 4, 'Am Spiegeln': 3, 'Hotel Gallitzinberg': 3, 'InterContinental Wien': 3, 'Dutch Design Hotel Artemis': 4, 'Mercure Josefshof Wien': 5, 'Fleming s Selection Hotel Wien City': 4, 'Cordial Theaterhotel Wien': 4, 'Vincci Bit': 5, 'Hollmann Beletage Design Boutique': 4, 'Hotel Bristol A Luxury Collection Hotel': 4, 'Hotel Imperial A Luxury Collection Hotel': 5, 'The Ring Vienna s Casual Luxury Hotel': 4, 'Grand Hotel Wien': 4, 'Hotel Ambassador': 3, 'Austria Trend Hotel Astoria Wien': 3, 'Austria Trend Hotel Europa Wien': 5, 'Hotel Schani Wien': 4, 'Ozo Hotel': 3, 'Renaissance Amsterdam Hotel': 4, 'Canal House': 4, 'The Toren': 4, 'The Dylan Amsterdam': 5, 'Great Northern Hotel A Tribute Portfolio Hotel London': 5, 'De Vere Devonport House': 3, 'K K Hotel Maria Theresia': 5, 'Small Luxury Hotel Altstadt Vienna': 5, 'Der Wilhelmshof': 3, 'Park Plaza Vondelpark Amsterdam': 3, 'Hotel Bagu s': 5, 'Hotel 1898': 4, 'Hotel Serhs Rivoli Rambla': 3, 'Eurostars Ramblas': 3, 'Hilton London Wembley': 5, 'Corus Hotel Hyde Park': 4, 'London Elizabeth Hotel': 4, 'Lancaster London': 3, 'Hotel Daniel Vienna': 3, 'Eurostars Embassy': 4, 'BEST WESTERN PLUS Amedia Wien': 3, 'Mercure Grand Hotel Biedermeier Wien': 3, 'Hotel Rathaus Wein Design': 4, 'NH Collection Milano President': 4, 'Hotel Dieci': 5, 'Royal Ramblas': 5, 'Best Western Blue Tower Hotel': 4, 'Hampshire Hotel Amsterdam American': 5, 'Ilunion Bel Art': 3, '25hours Hotel beim MuseumsQuartier': 5, 'Hotel Topazz': 3, 'Hampshire Hotel The Manor Amsterdam': 3, 'Hotel Kavalier': 3, 'Ofelias Hotel 4 Sup': 4, 'Vincci Maritimo': 4, 'London Marriott Hotel County Hall': 3, 'The Level at Melia Barcelona Sky': 5, 'Eurohotel Diagonal Port': 5, 'Hotel Derby': 4, 'Hotel Gran Derby Suites': 4, 'Jumeirah Lowndes Hotel': 5, 'Catalonia Magdalenes': 3, 'Expo Hotel Barcelona': 4, 'The Corner Hotel': 4, 'Best Western Premier Hotel Dante': 4, 'Hotel Balmes': 3, 'Alexandra Barcelona A DoubleTree by Hilton': 5, 'Alma Barcelona GL': 3, 'Room Mate Carla': 4, 'The Mandeville Hotel': 3, 'Hallmark Hotel London Chigwell Prince Regent': 5, 'Upper Diagonal': 3, 'Falkensteiner Hotel Wien Margareten': 3, 'Holiday Inn Vienna City': 4, 'pentahotel Vienna': 4, 'IntercityHotel Wien': 3, 'Boutiquehotel Das Tyrol': 3, 'NH Wien City': 3, 'Hotel Corvinus': 5, 'NH Collection Wien Zentrum': 4, 'Aparthotel Mariano Cubi Barcelona': 4, 'Hotel Arts Barcelona': 3, 'Leonardo Hotel Vienna': 5, 'JUFA Hotel Wien': 3, 'Golden Tulip Amsterdam West': 5, 'Eurostars Grand Marina Hotel GL': 3, 'Pakat Suites Hotel': 3, 'Guitart Grand Passage': 5, 'Hotel Rekord': 5, 'Catalonia Barcelona 505': 4, 'Mercure Amsterdam Sloterdijk Station': 4, 'DoubleTree by Hilton Hotel Amsterdam NDSM Wharf': 4, 'Hotel V Nesplein': 4, 'Fleming s Conference Hotel Wien': 5, 'ARCOTEL Wimberger': 4, 'Hotel Schild': 4, 'Acta CITY47': 5, 'De L Europe Amsterdam': 4, 'NH Collection Amsterdam Doelen': 3, 'Hotel Die Port van Cleve': 4, 'INK Hotel Amsterdam MGallery by Sofitel': 5, 'Inntel Hotels Amsterdam Centre': 3, 'Apex City Of London Hotel': 4, 'Mercure Hotel Amsterdam Centre Canal District': 3, 'Onix Liceo': 4, 'Abba Sants': 3, 'NH Sants Barcelona': 5, 'COMO Metropolitan London': 4, 'Aloft London Excel': 4, 'Ham Yard Hotel': 5, 'DoubleTree by Hilton Amsterdam Centraal Station': 5, 'Das Opernring Hotel': 3, 'Exe Vienna': 4, 'Mercure Hotel Amsterdam West': 4, 'Luxury Suites Amsterdam': 4, 'Sofitel Legend The Grand Amsterdam': 5, 'Sir Adam Hotel': 3, 'Hotel Grums Barcelona': 5, 'Hotel Spa Villa Olimpica Suites': 3, 'Sall s Hotel Pere IV': 3, 'Hampton by Hilton Amsterdam Centre East': 4, 'Hotel Beethoven Wien': 3, 'Roomz Vienna': 3, 'Silken Concordia': 4, 'Grosvenor House A JW Marriott Hotel': 5, 'Hotel Am Parkring': 4, 'Vienna Marriott Hotel': 5, 'H10 Port Vell 4 Sup': 3, 'Hotel Margot House': 5, 'Condes de Barcelona': 4, 'Monument Hotel': 3, 'Occidental Atenea Mar Adults Only': 3, 'Hotel Front Maritim': 4, 'AC Hotel Barcelona Forum a Marriott Lifestyle Hotel': 3, 'Duquesa de Cardona': 3, 'Hotel The Serras': 3, 'Eurostars Bcn Design': 5, 'Mandarin Oriental Barcelona': 5, 'Hotel Casa Fuster G L Monumento': 5, 'Sixtytwo Hotel': 4, 'Majestic Hotel Spa Barcelona GL': 5, 'Royal Passeig de Gracia': 5, 'K K Hotel Picasso': 4, 'AC Hotel Sants a Marriott Lifestyle Hotel': 5, 'Hilton Diagonal Mar Barcelona': 3, 'Hotel Palais Strudlhof': 3, 'Renaissance Barcelona Hotel': 3, 'Claris Hotel Spa GL': 5, 'H10 Casa Mimosa 4 Sup': 5, 'Catalonia Ramblas 4 Sup': 3, 'Hotel Midmost': 3, 'Arthotel ANA Westbahn': 4, 'The Rookery': 4, 'Hotel Wandl': 5, 'Hotel Sacher Wien': 5, 'ME Milan Il Duca': 5, 'Hotel Principe Di Savoia': 5, 'The Westin Palace': 5, 'Glam Milano': 3, 'Excelsior Hotel Gallia Luxury Collection Hotel': 5, 'Rosa Grand Milano Starhotels Collezione': 5, 'TownHouse 12': 4, 'Hotel Mozart': 5, 'Hotel Dei Cavalieri': 4, 'Best Western Plus Hotel Galles': 5, 'Starhotels Anderson': 4, 'Hotel Michelangelo': 5, 'Hotel Mercure Milano Centro': 3, 'NYX Milan': 4, 'The Yard Milano': 4, 'Hotel Sunflower': 3, 'Sheraton Grand London Park Lane': 4, 'M venpick Hotel Amsterdam City Centre': 5, 'Silken Ramblas': 3, 'Duquesa Suites Barcelona': 3, 'Hotel SB Diagonal Zero Barcelona 4 Sup': 5, 'Hotel DO Pla a Reial G L ': 3, 'W Barcelona': 3, 'H10 Urquinaona Plaza': 4, 'Hotel du Louvre in the Unbound Collection by Hyatt': 5, 'W Paris Op ra': 5, 'Hotel Miramar Barcelona GL': 5, 'Olivia Plaza Hotel': 3, 'Catalonia Barcelona Plaza': 5, 'Barcel Sants': 5, 'London Marriott Maida Vale': 5, 'The Langham London': 4, 'The Ned': 5, 'Sofitel Vienna Stephansdom': 5, 'Grand Hotel Amr th Amsterdam': 3, 'art otel Amsterdam': 3, 'NH Collection Amsterdam Barbizon Palace': 3, 'Pulitzer Amsterdam': 3, 'Dikker en Thijs Fenice Hotel': 5, 'Andaz Amsterdam Prinsengracht A Hyatt Hotel': 5, 'Hotel Seven One Seven': 4, 'citizenM Amsterdam': 4, 'InterContinental Amstel Amsterdam': 3, 'Attica 21 Barcelona Mar': 4, 'Hotel America Barcelona': 4, 'Golden Tulip Amsterdam Riverside': 3, 'Catalonia Park Putxet': 4, 'Hotel Murmuri Barcelona': 4, 'NH Collection Barcelona Gran Hotel Calder n': 5, 'H10 Metropolitan 4 Sup': 4, 'HCC Regente': 3, 'Barcel Raval': 3, 'Le M ridien Barcelona': 4, 'Ilunion Barcelona': 4, 'Austria Trend Hotel Rathauspark Wien': 3, 'Hotel Landhaus Fuhrgassl Huber': 3, 'Hotel Parco di Sch nbrunn Vienna': 4, 'Catalonia Born': 4, 'NH Amsterdam Caransa': 4, 'NH Amsterdam Schiller': 3, 'Royal Amsterdam Hotel': 4, 'Lindner Hotel Am Belvedere': 4, 'NH Wien Belvedere': 5, 'Austria Trend Hotel Savoyen Vienna': 4, 'Austria Trend Hotel Doppio Wien': 3, 'K West Hotel Spa': 3, 'Appartement Hotel an der Riemergasse': 5, 'Saint SHERMIN bed breakfast champagne': 4, 'The Wittmore Adults Only': 5, 'Le Meridien Vienna': 4, 'The College Hotel': 5, 'Hotel Roemer Amsterdam': 3, 'Hotel mbit Barcelona': 4, 'Catalonia Eixample 1864': 3, 'Negresco Princess 4 Sup': 4, 'Petit Palace Barcelona': 3, 'Roger de Ll ria': 4, 'Hotel Garbi Millenni': 3, 'Vincci Gala': 5, 'Catalonia Square 4 Sup': 5, 'H10 Universitat': 3, 'Bcn Urban Hotels Gran Rosellon': 4, 'Gallery Hotel': 5, 'Hotel Omm': 5, 'Ayre Hotel Rosell n': 4, 'Evenia Rossello': 4, 'Hotel Imlauer Wien': 3, 'Hotel Nestroy Wien': 3, 'Hotel Lam e': 4, 'Crowne Plaza London Docklands': 4, 'K K Palais Hotel': 3, 'Radisson Blu Hotel Amsterdam': 5, 'Catalonia Rigoletto': 4, 'Hotel Neri': 5, 'Capri by Fraser Barcelona': 5, 'Hotel Espa a Ramblas': 5, 'Abba Garden': 4, 'Zenit Barcelona': 5, 'Hyatt Regency Amsterdam': 3, 'Austria Trend Hotel Schloss Wilhelminenberg Wien': 4, 'Copthorne Tara Hotel London Kensington': 3, 'Courtyard by Marriott Vienna Schoenbrunn': 3, 'Arthotel ANA Prime': 5, 'Fletcher Hotel Amsterdam': 4, 'Austria Trend Hotel Park Royal Palace Vienna': 3, 'Falkensteiner Hotel Wien Zentrum Schottenfeld': 5, 'Hilton Vienna Plaza': 3, 'Palais Hansen Kempinski Vienna': 5, 'Hotel de France Wien': 3, 'Grand Ferdinand Vienna Your Hotel In The City Center': 5, 'Hotel Am Schubertring': 5, 'The Ritz Carlton Vienna': 4, 'Hotel K nig von Ungarn': 5, 'Hotel Domizil': 4, 'Hotel Capricorno': 4, 'Hotel Advance': 3, 'Derag Livinghotel Kaiser Franz Joseph Vienna': 5, 'Room Mate Giulia': 4, 'Simm s Hotel': 4, 'Hotel Esther a': 4, 'Hotel Royal': 5, 'Sloane Square Hotel': 4, 'Best Western Plus Hotel Blue Square': 4, 'Austria Trend Hotel Ananas Wien': 3, 'Hotel Zeitgeist Vienna Hauptbahnhof': 4, 'AZIMUT Hotel Vienna': 3, 'Hilton London Canary Wharf': 5, 'Grange Holborn Hotel': 5, 'WestCord Art Hotel Amsterdam 4 stars': 4, 'W Amsterdam': 5, 'NH City Centre Amsterdam': 3, 'The Stafford London': 5, 'The Tower A Guoman Hotel': 3, 'Ramada Apollo Amsterdam Centre': 5, 'Amsterdam Marriott Hotel': 4, 'Park Hotel': 4, 'NH Amsterdam Centre': 5, 'DO CO Hotel Vienna': 3, 'Hotel Am Stephansplatz': 4, 'The Savoy': 4, 'The May Fair Hotel': 5, 'Best Western Hotel Pension Arenberg Wien Zentrum': 4, 'Hotel Stefanie': 5, 'Hotel City Central': 3, 'Amba Hotel Charing Cross': 3, 'Hotel Das Tigra': 4, 'Holiday Inn London Brent Cross': 3, 'Bermondsey Square Hotel A Bespoke Hotel': 3, 'Courtyard by Marriott Vienna Prater Messe': 4, 'NH Barcelona Stadium': 5, 'Imperial Riding School Renaissance Vienna Hotel': 4, 'Aparthotel Adagio Vienna City': 5, 'Mercure Barcelona Condor': 4, 'H10 Cubik 4 Sup': 5, 'Sunotel Club Central': 4, 'Conservatorium Hotel': 5, 'NH Amsterdam Zuid': 3, 'Hotel Tocq': 5, 'The Square Milano Duomo': 4, 'Mandarin Oriental Milan': 3, 'Art Hotel Navigli': 4, 'Hotel Balmoral': 4, 'Brunelleschi Hotel': 4, 'Camperio House Suites Apartments': 5, 'TownHouse 33': 3, 'Hotel Capitol Milano': 3, 'Hotel Clerici': 4, 'UNA Hotel Cusani': 5, 'Hotel Pierre Milano': 5, 'MiHotel': 4, 'Hotel Milano Scala': 3, 'IH Hotels Milano Gioia': 4, 'Style Hotel': 3, 'Andreola Central Hotel': 4, 'Hotel Bristol': 5, 'Admiral Hotel': 5, 'UNA Hotel Century': 4, 'Hotel Marconi': 4, 'Hotel Cavour': 4, 'Best Western Plus Hotel Felice Casati': 5, 'Nu Hotel': 5, 'Hotel Magna Pars Small Luxury Hotels of the World': 4, 'Mercure Milano Regency': 5, 'Hotel Auriga': 3, 'Hotel Portello Gruppo Minihotel': 5, 'Idea Hotel Milano San Siro': 3, 'Windsor Hotel Milano': 4, 'Four Points Sheraton Milan Center': 5, 'Four Seasons Hotel Milano': 4, 'IH Hotels Milano Watt 13': 5, 'LaGare Hotel Milano Centrale MGallery by Sofitel': 5, 'Barcel Milan': 3, 'UNA Hotel Scandinavia': 4, 'Acca Palace': 4, 'Sina De La Ville': 3, 'UNA Hotel Mediterraneo': 5, 'Hotel La Spezia Gruppo MiniHotel': 5, 'Exe Laietana Palace': 4, 'Grand Hotel Central': 4, 'Ilunion Almirante': 3, 'Ohla Barcelona': 5, 'Barcelona Hotel Colonial': 5, 'NH Milano Machiavelli': 4, 'Hotel Sanpi Milano': 3, 'Best Western Hotel Ascot': 3, 'Ca Bianca Hotel Corte Del Naviglio': 4, 'IH Hotels Milano Lorenteggio': 4, 'Hilton Garden Inn Milan North': 4, 'DoubleTree By Hilton Milan': 4, 'Hilton Milan': 4, 'Hotel Wagner': 4, 'Hotel Boutique Duomo': 3, 'Hotel Manin': 5, 'Grand Hotel et de Milan': 3, 'Armani Hotel Milano': 4, 'Meli Milano': 4, 'Hotel Mediolanum': 5, 'UNA Maison Milano': 4, 'Novotel Milano Linate Aeroporto': 3, 'Hotel Carrobbio': 3, 'NH Milano Grand Hotel Verdi': 3, 'Crowne Plaza Milan City': 5, 'Leonardo Hotel Milan City Center': 5, 'Petit Palais Hotel De Charme': 5, 'Mokinba Hotels Montebianco': 5, 'Hotel Mentana': 5, 'Atahotel Contessa Jolanda': 4, 'Hotel Berna': 3, 'Best Western Atlantic Hotel': 4, 'LHP Hotel Napoleon': 5, 'Ibis Styles Milano Palmanova': 5, 'Mokinba Hotels Baviera': 3, 'Hotel Vittoria': 5, 'Starhotels Business Palace': 3, 'Hotel Mercure Milano Solari': 4, 'ADI Hotel Poliziano Fiera': 4, 'Bulgari Hotel Milano': 4, 'Best Western Madison Hotel': 3, 'The Hub Hotel': 3, 'Hotel Silver': 4, 'Colombia': 4, 'Antares Hotel Rubens': 4, 'STRAF a Member of Design Hotels ': 5, 'Sina The Gray': 4, 'Antica Locanda Dei Mercanti': 3, 'Palazzo Segreti': 3, 'Hotel Santa Marta Suites': 3, 'TH Street Duomo': 3, 'Uptown Palace': 5, 'Hotel Manzoni': 5, 'Senato Hotel Milano': 5, 'Baglioni Hotel Carlton The Leading Hotels of the World': 3, 'Hotel Da Vinci': 3, 'TownHouse Duomo': 3, 'TownHouse Galleria': 4, 'Hotel Spadari Al Duomo': 4, 'Starhotels Ritz': 5, 'Ramada Plaza Milano': 5, 'NH Milano Touring': 3, 'AC Hotel Milano a Marriott Lifestyle Hotel': 5, 'Hotel Tiziano Park Vita Parcour Gruppo MiniHotels': 3, 'Park Hyatt Milano': 5, 'Nhow Milan': 5, 'Holiday Inn Milan Garibaldi Station': 5, 'Milan Suite Hotel': 3, 'Klima Hotel Milano Fiere': 4, 'Radisson Blu Hotel Milan': 5, 'Milan Marriott Hotel': 5, 'ADI Doria Grand Hotel': 5, 'Starhotels Echo': 4, 'Bianca Maria Palace Hotel': 3, 'Hotel D Este': 4, 'Hotel Liberty': 5, 'Best Western Hotel Mirage': 5, 'Hotel Raffaello': 3, 'Antares Hotel Accademia': 4, 'Starhotels Tourist': 4, 'Grand Visconti Palace': 4, 'Best Western Hotel Major': 4, 'Hotel Lombardia': 4, 'NH Milano Palazzo Moscova': 4, 'Best Western Antares Hotel Concorde': 4, 'Atahotel Linea Uno': 3, 'Best Western Hotel Astoria': 4, 'Sheraton Diana Majestic': 5, 'Hotel degli Arcimboldi': 5, 'Novotel Milano Nord Ca Granda': 3, 'Best Western Hotel St George': 3, 'NH Carlton Amsterdam': 5, 'Albus Hotel Amsterdam City Centre': 5, 'Hotel Vilamar ': 3, 'Vilana Hotel': 3, 'Acevi Villarroel': 3, 'Hotel Arkadenhof': 4, 'Hotel Vondel Amsterdam': 3, 'Hotel Pension Baron am Schottentor': 4, 'Hotel Atlanta': 4, 'Park Inn by Radisson Uno City Vienna': 3, 'NH Danube City': 3, 'Strandhotel Alte Donau': 5, 'ARCOTEL Kaiserwasser Superior': 4, 'Mercure Hotel Raphael Wien': 3, 'Arthotel ANA Boutique Six': 3, 'Austria Trend Hotel Anatol Wien': 3, 'Hotel Kaiserin Elisabeth': 4, 'Boutique Hotel Notting Hill': 4, 'Crowne Plaza London Ealing': 3, 'Good Hotel London': 4, 'Park Plaza Westminster Bridge London': 5, 'Hotel du Vin Cannizaro House Wimbledon': 4, 'Amsterdam Canal Residence': 4, 'Thistle Trafalgar Square The Royal Trafalgar': 5, 'Corinthia Hotel London': 4, 'The Student Hotel Amsterdam City': 5, 'Hotel Prinz Eugen': 5, 'Hotel Erzherzog Rainer': 3, 'Das Triest Hotel': 4, 'Suite Hotel 900 m zur Oper': 3, 'Hotel Amadeus': 5, 'The Berkeley': 4, 'Holiday Inn London Kensington': 5, 'Atlantis Hotel Vienna': 4}\n"
     ]
    }
   ],
   "source": [
    "import random\n",
    "hotelNames=df['Hotel_Name']\n",
    "allHotels=[]\n",
    "\n",
    "for i in hotelNames:\n",
    "    if i not in allHotels:\n",
    "        allHotels.append(i)\n",
    "\n",
    "hotelStars={}\n",
    "for i in allHotels:\n",
    "    hotelStars[i]=random.randint(3,5)\n",
    "\n",
    "print(hotelStars)"
   ]
  },
  {
   "cell_type": "code",
   "execution_count": 79,
   "metadata": {},
   "outputs": [],
   "source": [
    "df['Stars']=df['Hotel_Name'].map(hotelStars)"
   ]
  },
  {
   "cell_type": "code",
   "execution_count": 80,
   "metadata": {},
   "outputs": [
    {
     "data": {
      "text/html": [
       "<div>\n",
       "<style scoped>\n",
       "    .dataframe tbody tr th:only-of-type {\n",
       "        vertical-align: middle;\n",
       "    }\n",
       "\n",
       "    .dataframe tbody tr th {\n",
       "        vertical-align: top;\n",
       "    }\n",
       "\n",
       "    .dataframe thead th {\n",
       "        text-align: right;\n",
       "    }\n",
       "</style>\n",
       "<table border=\"1\" class=\"dataframe\">\n",
       "  <thead>\n",
       "    <tr style=\"text-align: right;\">\n",
       "      <th></th>\n",
       "      <th>Hotel_Address</th>\n",
       "      <th>Average_Score</th>\n",
       "      <th>Hotel_Name</th>\n",
       "      <th>Tags</th>\n",
       "      <th>countries</th>\n",
       "      <th>Word_Score</th>\n",
       "      <th>Stars</th>\n",
       "    </tr>\n",
       "  </thead>\n",
       "  <tbody>\n",
       "    <tr>\n",
       "      <th>0</th>\n",
       "      <td>s Gravesandestraat 55 Oost 1092 AA Amsterdam NL</td>\n",
       "      <td>7.7</td>\n",
       "      <td>Hotel Arena</td>\n",
       "      <td>leisure trip  couple  duplex double room  sta...</td>\n",
       "      <td>NL</td>\n",
       "      <td>0.539216</td>\n",
       "      <td>5</td>\n",
       "    </tr>\n",
       "    <tr>\n",
       "      <th>1</th>\n",
       "      <td>s Gravesandestraat 55 Oost 1092 AA Amsterdam NL</td>\n",
       "      <td>7.7</td>\n",
       "      <td>Hotel Arena</td>\n",
       "      <td>leisure trip  couple  duplex double room  sta...</td>\n",
       "      <td>NL</td>\n",
       "      <td>10.000000</td>\n",
       "      <td>5</td>\n",
       "    </tr>\n",
       "    <tr>\n",
       "      <th>2</th>\n",
       "      <td>s Gravesandestraat 55 Oost 1092 AA Amsterdam NL</td>\n",
       "      <td>7.7</td>\n",
       "      <td>Hotel Arena</td>\n",
       "      <td>leisure trip  family with young children  dup...</td>\n",
       "      <td>NL</td>\n",
       "      <td>6.666667</td>\n",
       "      <td>5</td>\n",
       "    </tr>\n",
       "    <tr>\n",
       "      <th>3</th>\n",
       "      <td>s Gravesandestraat 55 Oost 1092 AA Amsterdam NL</td>\n",
       "      <td>7.7</td>\n",
       "      <td>Hotel Arena</td>\n",
       "      <td>leisure trip  solo traveler  duplex double ro...</td>\n",
       "      <td>NL</td>\n",
       "      <td>2.203390</td>\n",
       "      <td>5</td>\n",
       "    </tr>\n",
       "    <tr>\n",
       "      <th>4</th>\n",
       "      <td>s Gravesandestraat 55 Oost 1092 AA Amsterdam NL</td>\n",
       "      <td>7.7</td>\n",
       "      <td>Hotel Arena</td>\n",
       "      <td>leisure trip  couple  suite  stayed 2 nights ...</td>\n",
       "      <td>NL</td>\n",
       "      <td>1.081081</td>\n",
       "      <td>5</td>\n",
       "    </tr>\n",
       "  </tbody>\n",
       "</table>\n",
       "</div>"
      ],
      "text/plain": [
       "                                      Hotel_Address  Average_Score  \\\n",
       "0   s Gravesandestraat 55 Oost 1092 AA Amsterdam NL            7.7   \n",
       "1   s Gravesandestraat 55 Oost 1092 AA Amsterdam NL            7.7   \n",
       "2   s Gravesandestraat 55 Oost 1092 AA Amsterdam NL            7.7   \n",
       "3   s Gravesandestraat 55 Oost 1092 AA Amsterdam NL            7.7   \n",
       "4   s Gravesandestraat 55 Oost 1092 AA Amsterdam NL            7.7   \n",
       "\n",
       "    Hotel_Name                                               Tags countries  \\\n",
       "0  Hotel Arena   leisure trip  couple  duplex double room  sta...        NL   \n",
       "1  Hotel Arena   leisure trip  couple  duplex double room  sta...        NL   \n",
       "2  Hotel Arena   leisure trip  family with young children  dup...        NL   \n",
       "3  Hotel Arena   leisure trip  solo traveler  duplex double ro...        NL   \n",
       "4  Hotel Arena   leisure trip  couple  suite  stayed 2 nights ...        NL   \n",
       "\n",
       "   Word_Score  Stars  \n",
       "0    0.539216      5  \n",
       "1   10.000000      5  \n",
       "2    6.666667      5  \n",
       "3    2.203390      5  \n",
       "4    1.081081      5  "
      ]
     },
     "execution_count": 80,
     "metadata": {},
     "output_type": "execute_result"
    }
   ],
   "source": [
    "df.head()"
   ]
  },
  {
   "cell_type": "code",
   "execution_count": 81,
   "metadata": {},
   "outputs": [],
   "source": [
    "df.to_csv(\"ReviewData.csv\",index=False)"
   ]
  },
  {
   "cell_type": "code",
   "execution_count": 4,
   "metadata": {},
   "outputs": [
    {
     "data": {
      "text/plain": [
       "array([5, 3, 4])"
      ]
     },
     "execution_count": 4,
     "metadata": {},
     "output_type": "execute_result"
    }
   ],
   "source": [
    "df.Stars.unique()"
   ]
  },
  {
   "cell_type": "markdown",
   "metadata": {},
   "source": [
    "Find my Hotel Function"
   ]
  },
  {
   "cell_type": "code",
   "execution_count": 4,
   "metadata": {},
   "outputs": [
    {
     "name": "stdout",
     "output_type": "stream",
     "text": [
      "       countries                                Hotel_Name  Average_Score  \\\n",
      "404004        AT                         Hotel Sacher Wien            9.5   \n",
      "299897        AT                    Palais Coburg Residenz            9.5   \n",
      "448463        AT                    Hotel K nig von Ungarn            9.3   \n",
      "359058        AT        Small Luxury Hotel Altstadt Vienna            9.3   \n",
      "352755        AT  Hotel Imperial A Luxury Collection Hotel            9.2   \n",
      "446472        AT            Palais Hansen Kempinski Vienna            9.2   \n",
      "430008        AT      Appartement Hotel an der Riemergasse            9.2   \n",
      "501185        AT                    Strandhotel Alte Donau            9.1   \n",
      "465276        AT                            Hotel Stefanie            9.1   \n",
      "418356        AT                Sofitel Vienna Stephansdom            9.0   \n",
      "\n",
      "        Word_Score  Stars  \n",
      "404004   10.000000      5  \n",
      "299897    3.870968      5  \n",
      "448463   10.000000      5  \n",
      "359058   10.000000      5  \n",
      "352755   10.000000      5  \n",
      "446472   10.000000      5  \n",
      "430008   10.000000      5  \n",
      "501185    6.086957      5  \n",
      "465276   10.000000      5  \n",
      "418356    0.000000      5  \n"
     ]
    }
   ],
   "source": [
    "def findMyHotel(dataframe, country, tags, sortBy, stars):\n",
    "    \n",
    "    #country mask\n",
    "    countryMask=dataframe['countries'].str.contains(country, case=False)\n",
    "\n",
    "\n",
    "    #tag masks\n",
    "    tagMasks=[dataframe['Tags'].str.contains(eachTag, case=False) for eachTag in tags]\n",
    "    combinedMask=pd.Series([True]*len(dataframe))\n",
    "    #combining tag masks\n",
    "    for eachMask in tagMasks:\n",
    "        combinedMask &= eachMask\n",
    "    \n",
    "\n",
    "    #star filtering\n",
    "    starMask=pd.Series([True]*len(dataframe))\n",
    "    if stars!=0 :\n",
    "        if stars==3 :\n",
    "            starMask=dataframe['Stars']==3\n",
    "        elif stars==4 :\n",
    "            starMask=dataframe['Stars']==4\n",
    "        elif stars==5 :\n",
    "            starMask=dataframe['Stars']==5\n",
    "    \n",
    "\n",
    "    #final df\n",
    "    result_df=dataframe[combinedMask & countryMask & starMask]\n",
    "\n",
    "\n",
    "    #sorting data based on filter\n",
    "    if sortBy==0:       #average score sorting\n",
    "        result_df=result_df.sort_values('Average_Score',ascending=False)\n",
    "    elif sortBy==1:     #word score sorting\n",
    "        result_df=result_df.sort_values('Word_Score',ascending=False)\n",
    "    else :\n",
    "        print(\"wrong filter\")\n",
    "        return\n",
    "    \n",
    "    \n",
    "    #trimming and printing the result\n",
    "    result_df.drop_duplicates(['Hotel_Name','Average_Score','Stars'],inplace=True)\n",
    "    result_df=result_df.head(10)\n",
    "    print(result_df[['countries','Hotel_Name','Average_Score','Word_Score','Stars']])\n",
    "\n",
    "\n",
    "findMyHotel(df,\"AT\",[\"couple\",\"leisure trip\"],0,5)"
   ]
  },
  {
   "cell_type": "code",
   "execution_count": 5,
   "metadata": {},
   "outputs": [
    {
     "name": "stdout",
     "output_type": "stream",
     "text": [
      "Dataframe : df\n",
      "Find hotel function : findMyHotel(dataframe, country{String}, tags{String array}, sortBy{int}, stars{int})\n"
     ]
    }
   ],
   "source": [
    "def methods():\n",
    "    print(\"Dataframe : df\")\n",
    "    print(\"Find hotel function : findMyHotel(dataframe, country{String}, tags{String array}, sortBy{int}, stars{int})\")\n",
    "\n",
    "methods()"
   ]
  },
  {
   "cell_type": "code",
   "execution_count": 6,
   "metadata": {},
   "outputs": [],
   "source": [
    "import pickle\n",
    "\n",
    "hotelModel={'df':df, 'findMyHotel':findMyHotel, 'methods':methods}\n",
    "\n",
    "with open(\"hotelModelPickle.pkl\",\"wb\") as f:\n",
    "    pickle.dump(hotelModel,f)"
   ]
  },
  {
   "cell_type": "code",
   "execution_count": 7,
   "metadata": {},
   "outputs": [
    {
     "name": "stdout",
     "output_type": "stream",
     "text": [
      "Dataframe : df\n",
      "Find hotel function : findMyHotel(dataframe, country{String}, tags{String array}, sortBy{int}, stars{int})\n"
     ]
    }
   ],
   "source": [
    "with open(\"hotelModelPickle.pkl\",\"rb\") as f:\n",
    "    hotelModel2=pickle.load(f)\n",
    "\n",
    "methods2=hotelModel2['methods']\n",
    "methods2()"
   ]
  }
 ],
 "metadata": {
  "kernelspec": {
   "display_name": "Python 3",
   "language": "python",
   "name": "python3"
  },
  "language_info": {
   "codemirror_mode": {
    "name": "ipython",
    "version": 3
   },
   "file_extension": ".py",
   "mimetype": "text/x-python",
   "name": "python",
   "nbconvert_exporter": "python",
   "pygments_lexer": "ipython3",
   "version": "3.12.3"
  }
 },
 "nbformat": 4,
 "nbformat_minor": 2
}
